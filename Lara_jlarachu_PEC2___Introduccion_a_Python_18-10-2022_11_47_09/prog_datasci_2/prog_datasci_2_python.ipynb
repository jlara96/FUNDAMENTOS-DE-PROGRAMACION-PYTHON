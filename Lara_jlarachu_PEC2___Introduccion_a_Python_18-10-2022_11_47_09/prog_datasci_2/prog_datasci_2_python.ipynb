{
 "cells": [
  {
   "cell_type": "markdown",
   "metadata": {},
   "source": [
    "<div style=\"width: 100%; clear: both;\">\n",
    "    <div style=\"float: left; width: 50%;\">\n",
    "       <img src=\"http://www.uoc.edu/portal/_resources/common/imatges/marca_UOC/UOC_Masterbrand.jpg\", align=\"left\">\n",
    "    </div>\n",
    "</div>\n",
    "\n",
    "<div style=\"float: right; width: 50%;\">\n",
    "    <p style=\"margin: 0; padding-top: 22px; text-align:right;\">22.401 · Fundamentos de Programación</p>\n",
    "    <p style=\"margin: 0; text-align:right;\">Grado en Ciencia de Datos Aplicados</p>\n",
    "    <p style=\"margin: 0; text-align:right; padding-button: 100px;\">Estudios de Informática, Multimedia y Telecomunicación</p>\n",
    "</div>\n",
    "\n",
    "</div>\n",
    "<div style=\"width: 100%; clear: both;\">\n",
    "<div style=\"width:100%;\">&nbsp;</div>"
   ]
  },
  {
   "cell_type": "markdown",
   "metadata": {
    "id": "WtlJ3FisdSvo"
   },
   "source": [
    "Fundamentos de Programación\n",
    "============================\n",
    "\n",
    "--- \n",
    "\n",
    "Unidad 2: Breve introducción en la programación en Python\n",
    "-----------------------------------------------------\n",
    "\n",
    "---"
   ]
  },
  {
   "cell_type": "markdown",
   "metadata": {
    "id": "zbYCFzFwdSvp"
   },
   "source": [
    "### Instrucciones de uso\n",
    "\n",
    "Este documento es un *notebook* interactivo que intercala explicaciones más bien teóricas de conceptos de programación con fragmentos de código ejecutables. Para aprovechar las ventajas que aporta este formato, os recomendamos que, en primer lugar, leáis las explicaciones y el código que os proporcionamos. De este modo, tendréis un primer contacto con los conceptos que exponemos. Ahora bien, **la lectura es solo el principio!** Una vez hayáis leído el contenido, no olvidéis ejecutar el código proporcionado y modificarlo para crear variantes que os permitan comprobar que  habéis entendido la funcionalidad y explorar los detalles de implementación. En último lugar, os recomendamos también consultar la documentación enlazada para explorar con más profundidad las funcionalidades de los módulos presentados. \n",
    "\n",
    "### Introducción\n",
    "\n",
    "En esta unidad presentaremos el lenguaje de programación Python y su sintaxis básica. Explicaremos qué son las variables, veremos cómo las podemos definir y utilizar en Python, e introduciremos los principales tipos simples (enteros, *floats*, complejos) y compuestos (cadenas de caracteres, listas, *tuples* y diccionarios).\n",
    "\n",
    "A continuación, se incluye la tabla de contenidos, que podéis usar para navegar por el documento:\n",
    "\n",
    "<ul style=\"list-style-type:none\">\n",
    "    <li><a href='#1.-Qué-es-la-programación?'>1. Qué es la programación?</a></li>\n",
    "    <li><a href='#2.-Breve-historia-del-lenguaje-de-programación-Python'>2. Breve historia del lenguaje de programación Python</a></li>\n",
    "    <li><a href='#3.-Versiones-e-intérpretes-disponibles'>3. Versiones e intérpretes disponibles</a></li>\n",
    "    <li><a href=\"#4.-Sintaxis-básica-del-lenguaje-de-programación-Python\">4. Sintaxis básica del lenguaje de programación Python</a></li>\n",
    "     <ul style=\"list-style-type:none\">\n",
    "        <li><a href=\"#4.1.-Intérprete-frente-a-script\">4.1. Intérprete frente a script</a></li>\n",
    "        <li><a href=\"#4.2.-Sobre-los-tabuladores-y-los-espacios-en-blanco\">4.2. Sobre los tabuladores y los espacios en blanco</a></li>\n",
    "        <li><a href=\"#4.3.-Comentarios\">4.3. Comentarios</a></li>\n",
    "        <li><a href=\"#4.4.-Guía-de-estilo\">4.4. Guía de estilo</a></li>\n",
    "        <li><a href=\"#4.5.-IPython-y-Notebook\">4.5. IPython y notebook</a></li> \n",
    "                 <li><a href=\"#4.6.-Colab\">4.6. Colab</a></li> \n",
    "    </ul>\n",
    "    <li><a href=\"#5.-Variables-y-tipos-de-variables\">5. Variables y tipos de variables</a></li>\n",
    "        <ul style=\"list-style-type:none\">\n",
    "        <li><a href=\"#5.1.-Declaración-de-variables\">5.1. Declaración de variables</a></li>\n",
    "        <li><a href=\"#5.2.-Palabras-reservadas\">5.2. Palabras reservadas</a></li>\n",
    "        <li><a href=\"#5.3.-Funciones-básicas\">5.3. Funciones básicas</a></li>\n",
    "            <ul style=\"list-style-type:none\">\n",
    "            <li><a href=\"#5.3.1-Función-print\">5.3.1 Función print</a></li>\n",
    "            <li><a href=\"#5.3.2-Función-input\">5.3.2 Función input</a></li>\n",
    "            </ul>\n",
    "        <li><a href=\"#5.4.-Tipo-de-datos\">5.4. Tipo de datos</a></li>\n",
    "            <ul style=\"list-style-type:none\">\n",
    "            <li><a href=\"#5.4.1-Tipos-numéricos-y-cadenas-de-caracteres\">5.4.1 Tipos numéricos y cadenas de caracteres</a></li>\n",
    "            <li><a href=\"#5.4.2-Listas,-tuples-y-diccionarios\">5.4.2 Listas, tuples y diccionarios</a></li>\n",
    "        </ul>\n",
    "    </ul>\n",
    "    <li><a href=\"#6.-Organización-del-código\">6. Organización del código</a></li>\n",
    "    <li><a href=\"#7.-Operadores\">7. Operadores</a></li>\n",
    "    <ul style=\"list-style-type:none\">\n",
    "        <li><a href=\"#7.1.-Operadores-aritméticos\">7.1. Operadores aritméticos</a></li>\n",
    "        <li><a href=\"#7.2.-Operadores-de-asignación\">7.2. Operadores de asignación</a></li>\n",
    "        <li><a href=\"#7.3.-Operadores-relacionales\">7.3. Operadores relacionales</a></li>\n",
    "        <li><a href=\"#7.4.-Operadores-lógicos\">7.4. Operadores lógicos</a></li>\n",
    "        <li><a href=\"#7.5.-Operadores-de-pertenencia\">7.5. Operadores de pertenencia</a></li>\n",
    "        <li><a href=\"#7.6.-Numpy\">7.6. Numpy</a></li>\n",
    "    </ul>\n",
    "     <li><a href=\"#8.-Recursos-para-el-programador-de-Python\">8. Recursos para el programador de Python</a></li>\n",
    "    <li><a href=\"#9.-Ejercicios-y-preguntas-teóricas\">9. Ejercicios y preguntas teóricas</a></li>\n",
    "     <ul style=\"list-style-type:none\">\n",
    "        <li><a href=\"#9.1-Instrucciones-importantes\">9.1 Instrucciones importantes</a></li>\n",
    "    </ul>\n",
    "    <li><a href=\"#10.-Bibliografía\">10. Bibliografía</a></li>\n",
    "</ul>"
   ]
  },
  {
   "cell_type": "markdown",
   "metadata": {
    "id": "PjRzAKoGdSvr"
   },
   "source": [
    "# 1. Qué es la programación?\n",
    "\n",
    "En la Wikipedia encontramos la siguiente definición de *programación*:\n",
    "\n",
    "«Programación de ordenadores o **programación informática** (a menudo abreviado *programación* o *codificación*) es el proceso de escribir, probar, [depurar](https://en.wikipedia.org/wiki/debugging) y mantener el [código fuente](https://en.wikipedia.org/wiki/source_code) de [programas](https://en.wikipedia.org/wiki/computer_program). Este código fuente está escrito en un [lenguaje de programación](https://en.wikipedia.org/wiki/programming_language). El objetivo de la programación es crear un programa que muestra un determinado comportamiento deseado.»\n",
    "\n",
    "En el contexto de la ciencia de datos, los ordenadores son máquinas que nos permiten tratar, procesar y analizar cantidades ingentes de datos. Este tratamiento de la información se tiene que hacer mediante un tipo de conjunto de reglas: el **algoritmo**. Podemos entender los algoritmos como plantillas o «recetas» que se especifican a la máquina mediante algún lenguaje de programación y que nos permiten tratar la información de manera inherente a nuestras necesidades. Siguiendo con la metáfora de la receta, imaginad que queremos preparar un plato de cocina y que tenemos todos los ingredientes. Nuestra receta culinaria especificará a cada paso lo que el cocinero tiene que hacer. Por ejemplo, para hacer una tortilla:\n",
    "\n",
    "1. Romper los huevos y batirlos.\n",
    "2. Poner una paella al fuego.\n",
    "3. Cuando la temperatura sea bastante alta, añadir los huevos batidos.\n",
    "4. Esperar que cuaje bastante.\n",
    "5. Dar la vuelta.\n",
    "6. Repetir el paso 4 por la otra cara.\n",
    "7. Poner nuestra tortilla al plato.\n",
    "\n",
    "Los problemas que resolveremos mediante un ordenador normalmente tendrán un contexto más numérico, pero la idea de receta será la misma: un conjunto de instrucciones que se ejecutan desde el principio hasta el final y que llevan a cabo una acción. Así pues, el algoritmo o «receta» para calcular el cuadrado de un número cualquiera sería de la manera siguiente:\n",
    "\n",
    "1. Representar en la pantalla el mensaje «Bienvenido a la calculadora de cuadrados:».\n",
    "2. Pedir al usuario que introduzca un número mediante el teclado.\n",
    "3. Guardar este número.\n",
    "4. Tomar el número guardado como base para multiplicarlo por sí mismo.\n",
    "5. Representar en pantalla el resultado del cálculo del paso 4.\n",
    "6. Salir del programa.\n",
    "\n",
    "Especificar a un ordenador las instrucciones que tienen que ejecutarse en un programa es una abstracción que nos permiten los lenguajes de programación. En nuestro caso, usaremos Python para escribir y ejecutar nuestros programas y así solucionar problemas de ciencia de datos."
   ]
  },
  {
   "cell_type": "markdown",
   "metadata": {
    "id": "Z2hPxbE6dSvr"
   },
   "source": [
    "# 2. Breve historia del lenguaje de programación Python\n",
    "\n",
    "El lenguaje nació gracias a [Guido van Rossum](https://gvanrossum.github.io//)  mientras trabajaba en el Centro para las Matemáticas y la Informática (CWI, Centrum Wiskunde &amp; Informatica) en los Países Bajos en 1989 durante las vacaciones de Navidad, a pesar de que no fue hasta febrero de 1991 cuando fue publicada su primera versión a [USENET](https://en.wikipedia.org/wiki/usenet).\n",
    "\n",
    "Guido van Rossum es, a pesar del largo recorrido del lenguaje desde entonces, una figura muy relevante en el grupo de usuarios y desarrolladores de Python y es conocido cómo BDFL (del inglés *benevolent dictator for life*, dictador vitalicio benevolente); sus sugerencias en las discusiones en que interviene se tienen mucho en cuenta respecto a la hoja de ruta del futuro del lenguaje. Actualmente, la *Python Software Foundation* (PSF) es la organización encargada de velar por el futuro y la diseminación del lenguaje. Como nota divertida, hay que destacar que la relación entre el nombre del lenguaje y la serie de televisión [Monty Python's Flying Circus](https://www.imdb.com/title/tt0063929/) no es una mera coincidencia.\n",
    "\n",
    "Hay dos fechas importantes que han marcado la historia del lenguaje: el 16 de octubre de 2000, momento que la versión 2.0 fue publicada, y el 3 de diciembre de 2008, cuando se publicó la versión 3.0 del lenguaje.\n",
    "\n",
    "El lenguaje de programación Python hace especial énfasis en su capacidad para que otros programadores lo puedan leer. Esta sencillez aparente a la hora de leer código Python le ha permitido disfrutar de bastante popularidad en círculos menos enfocados en el desarrollo puro de software, como puede ser el campo de la ciencia de datos, en que confluyen personas expertas en diferentes disciplinas (matemáticas, estadística, etc.). Hay documentos de mejora del lenguaje conocidos por sus siglas **PEP-Número** (del inglés *Python Enhancement Proposals*) y es, precisamente, en uno de estos documentos, el [PEP-20](https://legacy.python.org/dev/peps/pep-0020/), en que se presenta la filosofía del lenguaje y esta marcada tendencia por la simplicidad, legibilidad y belleza del código Python:\n",
    "\n",
    "```\n",
    "The Zen of Python\n",
    "    Beautiful is better than ugly.\n",
    "    Explicit is better than implicit.\n",
    "    Simple is better than complex.\n",
    "    Complex is better than complicated.\n",
    "    Flat is better than nested.\n",
    "    Sparse is better than dense.\n",
    "    Readability counts.\n",
    "    Special cases aren't special enough to break the rules.\n",
    "    Although practicality beats purity.\n",
    "    Errors should never pass silently.\n",
    "    Unless explicitly silenced.\n",
    "    In the face of ambiguity, refuse the temptation to guess.\n",
    "    There should be one -and preferably only one- obvious way to do it.\n",
    "    Although that way may not be obvious at first unless you're Dutch.\n",
    "    Now is better than never.\n",
    "    Although never is often better than *right* now.\n",
    "    If the implementation is hard to explain, it's a bad idea.\n",
    "    If the implementation is easy to explain, it may be a good idea.\n",
    "    Namespaces are one honking great idea -let's do more of those!-\n",
    "```\n",
    "\n",
    "Muchos de estos principios en este momento podrán parecer extraños al alumnado, pero a medida que se profundiza en el uso del lenguaje muchos resultarán habituales en la hora de escribir y leer código Python.\n",
    "\n",
    "Finalmente, es interesante presentar al alumnado el término *pythonic*, puesto que aparece en muchas búsquedas en relación con la sintaxis de Python. Los lenguajes de programación hacen uso habitualmente de estructuras que sirven para expresar tareas o partes de código en un lenguaje común que no está considerado directamente en la sintaxis del lenguaje. Este concepto (en inglés *idiom*) está muy extendido en la comunidad de Python y muchas veces se traduce en mensajes en foros del estilo *«which is the most pythonic way to do..?»* ('cuál es la manera más pythónica de hacer..?'). Se trata de un concepto avanzado, pero que en Python es especialmente relevante, dado que algunos de estos conceptos han sido implementados en el lenguaje de manera más eficiente y pueden hacer que un código u otro se ejecute de manera más rápida si es más pythónica. Este concepto será ampliado más adelante."
   ]
  },
  {
   "cell_type": "markdown",
   "metadata": {
    "id": "dWxzx7ekdSvs"
   },
   "source": [
    "# 3. Versiones e intérpretes disponibles\n",
    "\n",
    "Actualmente coexisten dos versiones o ramas de desarrollo: las familias 2.7 y 3.6 (en el momento de redacción de este documento, las últimas versiones son la 2.7.18 y la 3.10.1, respectivamente).\n",
    "\n",
    "Python es un lenguaje de programación muy vivo y en evolución continua, al que se van añadiendo y corrigiendo funcionalidades muy a menudo. La rama de desarrollo 2.7.x es una versión muy madura y estable, pero fue con la aparición de la versión 3.0 cuando hubo un salto importante en la sintaxis del lenguaje. Por ejemplo, la misma expresión *print* en la rama 2.7.x pasó a tener forma de función print () en la rama 3.x. Estos cambios no se limitan a correcciones estéticas, sino que se han introducido para mejorar el rendimiento del lenguaje, la organización del código y de las librerías en el ámbito interno, etc. En resumen, la rama 3.x es el futuro de Python, mientras que la rama 2.7.x representaría el pasado del lenguaje.\n",
    "\n",
    "En enero de 2020 finalizó el apoyo de la rama 2.x de Python, y, actualmente, la familia que se usa es la 3.x. Por este motivo, en este curso usamos Python 3.x. Aun así, si alguna vez tenéis que trabajar con código antiguo desarrollado por Python 2.x, veréis que no tendréis problemas, puesto que la esencia del lenguaje continúa siendo la misma.\n",
    "\n",
    "En cuanto a los intérpretes, el más conocido es la implementación en C llamada [CPython](https://en.wikipedia.org/wiki/cpython), que es el intérprete del lenguaje Python desarrollado por la comunidad del proyecto de código libre y soportado y dirigido por la Python Software Foundation. A pesar de que CPython es la implementación estándar y a día de hoy soporta más plataformas (cuarenta y dos en el momento de redacción de este documento), no es ni mucho menos la única. Otras implementaciones famosas son [Jython](https://www.jython.org/), escrito en Java y que funciona en la máquina virtual de Java; [PyPy](https://en.wikipedia.org/wiki/pypy), un intérprete también escrito en C, pero que pone especial énfasis en el rendimiento y a tratar la concurrencia y el paralelismo de una manera diferente; [IronPython](https://en.wikipedia.org/wiki/ironpython), una implementación del lenguaje para la plataforma .NET, etc."
   ]
  },
  {
   "cell_type": "markdown",
   "metadata": {
    "id": "kMV657vFdSvt"
   },
   "source": [
    "# 4. Sintaxis básica del lenguaje de programación Python\n",
    "\n",
    "## 4.1. Intérprete frente a script\n",
    "\n",
    "Hay tres formas básicas de ejecutar código Python:\n",
    "\n",
    "1. Ejecutar el intérprete de Python desde una terminal.\n",
    "2. Escribir código Python en un fichero (típicamente con extensión PY, y que es conocido habitualmente con el nombre de *script*) y ejecutarlo usando la orden:\n",
    "\n",
    "```\n",
    "$ python script_name.py\n",
    "```\n",
    "\n",
    "3. Escribir código Python mediante *Jupyter Notebook*. \n",
    "\n",
    "La primera forma es útil para probar órdenes del lenguaje Python de forma rápida o simplemente para usar el intérprete como calculadora. La segunda, por el contrario, nos permitirá ejecutar una y otra vez el código contenido en nuestro fichero de *script* sin tener que escribir en el intérprete el mismo código una y otra vez. La tercera opción es la que usaremos en esta asignatura y lo explicaremos con más detalle en el apartado 4.5. \n",
    "\n",
    "## 4.2. Sobre los tabuladores y los espacios en blanco\n",
    "\n",
    "En Python, los bloques de código se indican mediante espacios en blanco. Más adelante hablaremos de los diferentes tipos de bloques de código, pero a modo de introducción haremos uso del ejemplo siguiente:\n",
    "\n",
    "```\n",
    "1 def suma(a, b):\n",
    "2     return a + b\n",
    "3\n",
    "4 print(suma(2, 3))\n",
    "```\n",
    "\n",
    "En las líneas 1 y 2, definimos mediante la palabra clave **def** una función que recibe como argumentos dos variables de nombre `a` y `b` y que en la línea 2 devuelve la suma de estas dos variables.\n",
    "\n",
    "En la línea 4, llamamos a esta función suma con los valores 2 y 3, y mediante la orden **print** escribimos el resultado que nos aparece por la terminal.\n",
    "\n",
    "Como se puede observar a la línea 2, la palabra clave **return** está a cuatro espacios de distancia del comienzo de la línea anterior (línea 1). Esto es así porque estamos definiendo un bloque de código (en otros lenguajes como C o Java, se usan para la definición de bloques de código los caracteres especiales «{» y «}»).\n",
    "\n",
    "Hay dos posibilidades para definir la indentación de código (*indentación* es un anglicismo, y en castellano tendríamos que usar el término *sangrado*, a pesar de que *indentación* está ampliamente reconocido por la comunidad informática): mediante espacios o tabulaciones. Podremos usar de manera indistinta una forma u otra, pero siempre teniendo en cuenta que nunca tendrán que mezclarse en un mismo fichero de código. Esto es así porque las tabulaciones no tienen un carácter que las distinga y no suelen presentarse de forma idónea en muchos editores de texto. Muchas veces, al presionar la tecla «Tab» en una aplicación, este carácter se convierte automáticamente en un número fijo de espacios en blanco. Por lo tanto, **será recomendable configurar el editor que elegimos para escribir código Python de forma que el tabulador se traduzca en cuatro espacios en blanco**.\n",
    "\n",
    "En el documento [PEP-8](https://www.python.org/dev/peps/pep-0008/), que es la guía de estilo que siguen la mayoría de programadores Python, se detalla este aspecto.\n",
    "\n",
    "## 4.3. Comentarios\n",
    "\n",
    "Los comentarios, fragmentos de texto que no se interpretan, son una parte fundamental de cualquier programa, puesto que facilitan la lectura y permiten añadir aclaraciones necesarias para la correcta comprensión del código. \n",
    "\n",
    "Si no se añaden comentarios al código, puede ser que el usuario no recuerde algunas de las decisiones que tomó cuando lo escribió. Por otro lado, si se lee código escrito por otra persona, los comentarios permiten seguir mejor los razonamientos detrás de este código. \n",
    "\n",
    " Python, se pueden incluir comentarios en el código de una sola línea (precedidos por el símbolo `#`) o bien de múltiples líneas (que se indican con `\"\"\"` o bien `'''`).\n",
    "Los comentarios de múltiples líneas se acostumbran a usar para documentar funciones, métodos o clases en Python. "
   ]
  },
  {
   "cell_type": "code",
   "execution_count": 1,
   "metadata": {
    "executionInfo": {
     "elapsed": 28,
     "status": "ok",
     "timestamp": 1664992948410,
     "user": {
      "displayName": "Alexandra Abos Ortega",
      "userId": "12009012866427188327"
     },
     "user_tz": -120
    },
    "id": "mlS-6yUOdSvu"
   },
   "outputs": [],
   "source": [
    "# Esto es un comentario. Cuando ejecutamos esta celda\n",
    "# el comentario se ignora."
   ]
  },
  {
   "cell_type": "code",
   "execution_count": 2,
   "metadata": {
    "executionInfo": {
     "elapsed": 27,
     "status": "ok",
     "timestamp": 1664992948411,
     "user": {
      "displayName": "Alexandra Abos Ortega",
      "userId": "12009012866427188327"
     },
     "user_tz": -120
    },
    "id": "EYXTkbABdSvw"
   },
   "outputs": [],
   "source": [
    "def suma(a,b):\n",
    "    \"\"\" Esta función devuelve \n",
    "    la suma de los argumentos a y b \"\"\"\n",
    "    return a + b"
   ]
  },
  {
   "cell_type": "markdown",
   "metadata": {
    "id": "6TKOaNSWdSvw"
   },
   "source": [
    "## 4.4. Guía de estilo\n",
    "\n",
    "En el apartado anterior se ha tratado la guía de estilo oficial del lenguaje Python, que está disponible en linea como PEP-8. Como resumen, estos son los aspectos básicos que se tienen que seguir:\n",
    "\n",
    "1. Las funciones y los nombres de palabras se escribirán en minúscula y los nombres largos que contengan varias palabras se unirán mediante el carácter «_».\n",
    "2. Los nombres de clases tendrán su letra inicial en mayúscula para diferenciarlas de variables, funciones y objetos.\n",
    "3. Las constantes irán en mayúsculas y separadas por el carácter «_» si contienen varias palabras.\n",
    "4. Como ya se ha comentado en el apartado anterior, no se usarán tabuladores, sino que siempre usaremos cuatro espacios en blanco.\n",
    "5. Los comentarios tienen que ser frases completas y tienen que estar actualizados (¡es importante que correspondan al código que se está comentando!).\n",
    "\n",
    "Es muy importante seguir la guía de estilo cuando se programa Python (¡recordadlo cuando preparéis el código para las entregas de la asignatura!)."
   ]
  },
  {
   "cell_type": "markdown",
   "metadata": {
    "id": "m25h44_adSvx"
   },
   "source": [
    "## 4.5. IPython y Notebook\n",
    "\n",
    "IPython fue originalmente desarrollado como un conjunto de herramientas para facilitar el desarrollo y el procesamiento de datos Python a usuarios del mundo científico. La «i» del nombre proviene de *interactivo*, puesto que dispone de herramientas que interactúan con el usuario, como son el autocompletado de código, una ayuda extensa, etc. \n",
    "\n",
    "El [**Jupyter Notebook**](https://jupyter.org/), a su vez, es otra herramienta muy útil para la exploración de código, para representar resultados de manera gráfica, o por el prototipaje rápido, etc., todo esto mediante la interacción vía navegador web (Notebook arranca de manera local un servidor web). Las versiones anteriores de Jupyter Notebook se conocían como IPython Notebook. \n",
    "\n",
    "Un notebook se organiza en celdas que siguen un orden secuencial. Hay 3 tipos de celdas, pero se usan dos principalmente: **texto** (denominado *markdown*) y **código**. Ambos tipos de celdas se pueden ejecutar, pero tienen funcionamientos diferentes. Una celda de tipo código se emplea para ejecutar el bloque de código de Python que esté dentro esta celda. Por otro lado, una celda *markdown* nos permite dar formato en el texto (por ejemplo, se pueden poner elementos en **negrita** o *cursiva*) o añadir imágenes al notebook. El tercer tipo de celda se denomina *Raw NBConvert* y se usa para poner código que no se quiera ejecutar, puesto que estas celdas no son evaluadas por el notebook. \n",
    "El tipo de la celda no es fijo. Una vez creada, se puede cambiar el tipo de una celda (por ejemplo, puedes convertir una celda de código a texto, y viceversa). \n",
    "\n",
    "Así pues, los notebooks nos proporcionan un ambiente muy dinámico, puesto que podemos escribir y evaluar nuestro código fácilmente. También nos permite combinar bloques de texto y bloques de código, cosa que lo convierte en una herramienta muy adecuada en el ámbito formativo. "
   ]
  },
  {
   "cell_type": "markdown",
   "metadata": {
    "id": "pr5KDMNFdSvx"
   },
   "source": [
    "## 4.6. Colab\n",
    "\n",
    "Actualmente, el desarrollo de código también se puede hacer mediante plataformas en la nube. La computación en la nube (*cloud computing*) permite tener acceso remoto a programas, almacenar archivos y procesar grandes volúmenes de datos, sin tener las limitaciones de una máquina local.\n",
    "Una plataforma muy conocida y utilizada es [**Google Colab**](https://colab.research.google.com/), un entorno que nos permite escribir y ejecutar código Python mediante notebooks completamente desde la nube. Su uso ha ido en aumento los últimos años, puesto que permite configurar determinadas prestaciones del equipo que son difíciles de tener a escala local (por ejemplo, se puede activar la GPU si se necesita un alto poder de computación). Por otro lado, como se ejecuta desde la nube, también permite compartir fácilmente los notebooks cuando se trabaja en equipo. \n",
    "\n",
    "En esta asignatura usaremos Google Colab, puesto que nos proporciona un entorno común y colaborativo entre todos los estudiantes. "
   ]
  },
  {
   "cell_type": "markdown",
   "metadata": {
    "id": "oHOHifb0dSvy"
   },
   "source": [
    "# 5. Variables y tipos de variables\n",
    "\n",
    "Podemos entender una **variable** como un contenedor en el que podemos poner nuestros\n",
    "datos a fin de guardarlos y tratarlos más adelante. En Python, las\n",
    "variables no tienen tipos, es decir, no tenemos que indicar si la variable será\n",
    "numérica, un carácter, una cadena de caracteres o una lista, por\n",
    "ejemplo. Además, las variables pueden ser declaradas e inicializadas en\n",
    "cualquier momento, a diferencia de otros lenguajes de programación.\n",
    "\n",
    "## 5.1. Declaración de variables\n",
    "\n",
    "Para **declarar** una variable, usamos la expresión *nombre_de_variable\n",
    "= valor*. Se recomienda repasar el documento [PEP-8](https://www.python.org/dev/peps/pep-0008/#function-and-variable-names) para indicar nombres de variables correctas, pero, *grosso modo*,\n",
    "evitaremos usar mayúscula en la inicial, separaremos las diferentes\n",
    "palabras con el carácter «_» y no utilizaremos acentos ni caracteres\n",
    "específicos de nuestra codificación como el símbolo del «€» o la «ñ», por\n",
    "ejemplo.\n",
    "\n",
    "Veamos unos cuantos ejemplos de declaraciones de variables y cómo tenemos que usarlas:"
   ]
  },
  {
   "cell_type": "code",
   "execution_count": 3,
   "metadata": {
    "attributes": {
     "classes": [
      "sourceCode"
     ],
     "id": ""
    },
    "executionInfo": {
     "elapsed": 26,
     "status": "ok",
     "timestamp": 1664992948411,
     "user": {
      "displayName": "Alexandra Abos Ortega",
      "userId": "12009012866427188327"
     },
     "user_tz": -120
    },
    "id": "Uj4hiZlJdSvy"
   },
   "outputs": [],
   "source": [
    "# Declaramos una variable de nombre 'variable_numerica' \n",
    "# que contiene el valor entero 12.\n",
    "variable_numerica = 12\n",
    "\n",
    "# Declaramos una variable de nombre monstruo \n",
    "# que contiene el valor 'Godzilla'.\n",
    "monstruo = 'Godzilla'\n",
    "\n",
    "# Declaramos una variable de nombre 'planetas' \n",
    "# que es una lista de cadenas de caracteres.\n",
    "planetas = ['Mercurio', 'Venus', 'Tierra', 'Marte']"
   ]
  },
  {
   "cell_type": "code",
   "execution_count": 4,
   "metadata": {
    "attributes": {
     "classes": [
      "sourceCode"
     ],
     "id": ""
    },
    "colab": {
     "base_uri": "https://localhost:8080/"
    },
    "executionInfo": {
     "elapsed": 25,
     "status": "ok",
     "timestamp": 1664992948411,
     "user": {
      "displayName": "Alexandra Abos Ortega",
      "userId": "12009012866427188327"
     },
     "user_tz": -120
    },
    "id": "2vnoffLRdSvy",
    "outputId": "a9b58539-2c65-48bc-94fd-b06d5972a115"
   },
   "outputs": [
    {
     "name": "stdout",
     "output_type": "stream",
     "text": [
      "30\n"
     ]
    }
   ],
   "source": [
    "mi_edad = 25\n",
    "mi_edad_en_5 = mi_edad + 5\n",
    "# 'Imprimimos' el valor calculado que será, efectivamente, 30\n",
    "print(mi_edad_en_5)"
   ]
  },
  {
   "cell_type": "markdown",
   "metadata": {
    "id": "ML6NRy_rdSvz"
   },
   "source": [
    "## 5.2. Palabras reservadas\n",
    "\n",
    "En Python, hay un conjunto de palabras, llamadas **palabras reservadas**, que no podemos usar para declarar variables, puesto que tienen un significado especial y su nombre está reservado para ciertas tareas internas del lenguaje de programación. \n",
    "\n",
    "Algunas de estas palabras forman parte de la sintaxis básica de Python (por ejemplo: *True*, *False*, *def*, *return*, *for*, *if*). Otras forman parte de funcionalidades más avanzadas (async, await). \n",
    "\n",
    "Para consultar cuáles son las palabras reservadas en Python, se puede ejecutar el código siguiente: "
   ]
  },
  {
   "cell_type": "code",
   "execution_count": 5,
   "metadata": {
    "colab": {
     "base_uri": "https://localhost:8080/"
    },
    "executionInfo": {
     "elapsed": 22,
     "status": "ok",
     "timestamp": 1664992948412,
     "user": {
      "displayName": "Alexandra Abos Ortega",
      "userId": "12009012866427188327"
     },
     "user_tz": -120
    },
    "id": "rg3Vj9TjdSvz",
    "outputId": "705ed4b7-d0c7-4810-afb6-2c3905adf2c4"
   },
   "outputs": [
    {
     "name": "stdout",
     "output_type": "stream",
     "text": [
      "\n",
      "Here is a list of the Python keywords.  Enter any keyword to get more help.\n",
      "\n",
      "False               class               from                or\n",
      "None                continue            global              pass\n",
      "True                def                 if                  raise\n",
      "and                 del                 import              return\n",
      "as                  elif                in                  try\n",
      "assert              else                is                  while\n",
      "async               except              lambda              with\n",
      "await               finally             nonlocal            yield\n",
      "break               for                 not                 \n",
      "\n"
     ]
    }
   ],
   "source": [
    "help('keywords')"
   ]
  },
  {
   "cell_type": "markdown",
   "metadata": {
    "id": "9A4EpUOvdSv0"
   },
   "source": [
    "## 5.3. Funciones básicas\n",
    "\n",
    "Una parte clave en el diseño es que el código sea dinámico e interactivo para el usuario. Para conseguirlo, hay funciones básicas de Python que permiten al usuario interaccionar con el programa. \n",
    "\n",
    "Una **función** es una porción de código reutilizable que se usa para hacer una tarea determinada. Si tenemos un trozo de código que tenemos que utilizar repetidamente, podemos emplear la función que contiene el código dentro, en lugar de tener que escribirlo todo otra vez. \n",
    "\n",
    "A continuación, tenéis el ejemplo de la función suma que habíamos creado antes:"
   ]
  },
  {
   "cell_type": "code",
   "execution_count": 6,
   "metadata": {
    "executionInfo": {
     "elapsed": 20,
     "status": "ok",
     "timestamp": 1664992948412,
     "user": {
      "displayName": "Alexandra Abos Ortega",
      "userId": "12009012866427188327"
     },
     "user_tz": -120
    },
    "id": "t-eEVavQdSv0"
   },
   "outputs": [],
   "source": [
    "# Definimos la función suma\n",
    "def suma(a, b):\n",
    "    \"\"\" Esta función devuelve \n",
    "    la suma de los argumentos a y b \"\"\"\n",
    "    return a + b"
   ]
  },
  {
   "cell_type": "code",
   "execution_count": 7,
   "metadata": {
    "colab": {
     "base_uri": "https://localhost:8080/"
    },
    "executionInfo": {
     "elapsed": 19,
     "status": "ok",
     "timestamp": 1664992948412,
     "user": {
      "displayName": "Alexandra Abos Ortega",
      "userId": "12009012866427188327"
     },
     "user_tz": -120
    },
    "id": "8nB1pkhmdSv0",
    "outputId": "3103af52-0851-4a77-8b04-7d187f7db9e5"
   },
   "outputs": [
    {
     "data": {
      "text/plain": [
       "3"
      ]
     },
     "execution_count": 7,
     "metadata": {},
     "output_type": "execute_result"
    }
   ],
   "source": [
    "# Si queremos hacer la suma de dos números, \n",
    "# no hay que escribir todo el código otra vez\n",
    "suma(1, 2)"
   ]
  },
  {
   "cell_type": "markdown",
   "metadata": {
    "id": "sbNb6xpGdSv1"
   },
   "source": [
    "En la unidad 3 veremos en detalle las funciones, pero, de momento, es importante conocer dos funciones básicas: la función `print` y la función `input`. "
   ]
  },
  {
   "cell_type": "markdown",
   "metadata": {
    "id": "JUQQCxPvdSv1"
   },
   "source": [
    "### 5.3.1. Función print\n",
    "\n",
    "La función **print()** coge como parámetro de entrada uno o más elementos y los muestra en pantalla. Cuando se imprimen, los elementos se transforman en formato texto. Si hay más de un parámetro, se muestran por defecto separados por un espacio y, al final, se acaba con un salto de línea. "
   ]
  },
  {
   "cell_type": "code",
   "execution_count": 8,
   "metadata": {
    "colab": {
     "base_uri": "https://localhost:8080/"
    },
    "executionInfo": {
     "elapsed": 17,
     "status": "ok",
     "timestamp": 1664992948413,
     "user": {
      "displayName": "Alexandra Abos Ortega",
      "userId": "12009012866427188327"
     },
     "user_tz": -120
    },
    "id": "gHKANwkkdSv1",
    "outputId": "974ac53e-f40d-42b9-a716-89535b017d72"
   },
   "outputs": [
    {
     "name": "stdout",
     "output_type": "stream",
     "text": [
      "1 2 3\n",
      "Hello world\n",
      "Hello world\n",
      "\n",
      "1:2:3\n"
     ]
    }
   ],
   "source": [
    "# Mostramos en pantalla 3 elementos\n",
    "print(1, 2, 3)\n",
    "\n",
    "# Mostramos en pantalla dos elementos de texto\n",
    "print('Hello', 'world')\n",
    "\n",
    "# Podemos también escribir fragmentos de texto\n",
    "print('Hello world')\n",
    "\n",
    "# Si no ponemos ningún parámetro, print devuelve un salto de línea\n",
    "print()\n",
    "\n",
    "# También podemos especificar otros separadores en lugar del espacio\n",
    "print(1, 2, 3, sep = ':')"
   ]
  },
  {
   "cell_type": "markdown",
   "metadata": {
    "id": "IqDOhq9jdSv2"
   },
   "source": [
    "Otro aspecto a destacar son las **secuencias de escape** (en inglés, *escape sequences*), conjuntos de caracteres que tienen un significado especial para el intérprete. En Python, cuando usamos la función print(), podemos especificar los saltos de línea o el tabulador mediante secuencias de escape. Por ejemplo:"
   ]
  },
  {
   "cell_type": "code",
   "execution_count": 9,
   "metadata": {
    "colab": {
     "base_uri": "https://localhost:8080/"
    },
    "executionInfo": {
     "elapsed": 15,
     "status": "ok",
     "timestamp": 1664992948413,
     "user": {
      "displayName": "Alexandra Abos Ortega",
      "userId": "12009012866427188327"
     },
     "user_tz": -120
    },
    "id": "r4UdTlzVdSv2",
    "outputId": "946e4d1b-f0d3-434a-e5c8-0b45e5094c64"
   },
   "outputs": [
    {
     "name": "stdout",
     "output_type": "stream",
     "text": [
      "Hello\tworld\n",
      "Hello\n",
      "world\n"
     ]
    }
   ],
   "source": [
    "# Usamos \\t para añadir un tabulador\n",
    "print('Hello\\tworld')\n",
    "\n",
    "# Usamos \\n para añadir un salto de línea\n",
    "print('Hello\\nworld')"
   ]
  },
  {
   "cell_type": "markdown",
   "metadata": {
    "id": "PoDq-AuIdSv2"
   },
   "source": [
    "### 5.3.2. Función input \n",
    "\n",
    "La función **input** permite al usuario introducir un valor en pantalla que, después, puede ser guardado y empleado por el programa. \n",
    "Es importante destacar que el elemento que el usuario especifica mediante input() se devuelve en forma de texto. \n",
    "\n",
    "Esta función es muy útil, puesto que permite la interacción entre el código y su usuario. "
   ]
  },
  {
   "cell_type": "code",
   "execution_count": 10,
   "metadata": {
    "colab": {
     "base_uri": "https://localhost:8080/"
    },
    "executionInfo": {
     "elapsed": 7985,
     "status": "ok",
     "timestamp": 1664992956389,
     "user": {
      "displayName": "Alexandra Abos Ortega",
      "userId": "12009012866427188327"
     },
     "user_tz": -120
    },
    "id": "g8eoKugIdSv2",
    "outputId": "9c0a5324-bd7a-4ad8-ed08-f31a53d45cc3"
   },
   "outputs": [
    {
     "name": "stdout",
     "output_type": "stream",
     "text": [
      "Introduce tu nombre y apellidos\n",
      "Alex González\n",
      "El nombre introducido es el siguiente:  Alex González\n"
     ]
    }
   ],
   "source": [
    "# En este ejemplo, pedimos al usuario que introduzca su nombre\n",
    "# Esta información se guarda en la variable \"nombre\"\n",
    "# Aquí también podemos ver cómo usamos \\n para hacer el salto de línea\n",
    "nombre = input(\"Introduce tu nombre y apellidos\\n\")\n",
    "\n",
    "# La variable \"nombre\" puede ser empleada después\n",
    "print(\"El nombre introducido es el siguiente: \", nombre)"
   ]
  },
  {
   "cell_type": "markdown",
   "metadata": {
    "id": "rlmf_gpzdSv3"
   },
   "source": [
    "## 5.4. Tipo de datos\n",
    "\n",
    "A continuación presentamos algunos de los tipos nativos de datos que una variable de Python puede contener: \n",
    "números enteros (int), números decimales (float), números complejos\n",
    "(complex), cadena de caracteres (string), listas (list), tuples (tuple)\n",
    "y diccionarios (dict). "
   ]
  },
  {
   "cell_type": "markdown",
   "metadata": {
    "id": "pheCykYMdSv3"
   },
   "source": [
    "| Tipo de dato| Ejemplo |\n",
    "| :- | :-: |\n",
    "| enteros (int) | num_entero = 1  |\n",
    "| números decimales (float) | num_dec = 1.5  |\n",
    "| números complejos (complex) | num_complex = 2 + 3j  |\n",
    "| cadena de caracteres (string) | text = \"Hello World\"  |\n",
    "| listas (list) | lista = [1, 2, 3] |\n",
    "| tuples (tuple) |  peli = ('Aladdin', 1992) |\n",
    "| diccionarios (dict) | fruta = {'pera' : 1.5, 'manzana' : 3.4}  |\n",
    "\n",
    "Veamos unos ejemplos para cada uno de estos tipos:"
   ]
  },
  {
   "cell_type": "markdown",
   "metadata": {
    "id": "CI2hERaSdSv3"
   },
   "source": [
    "### 5.4.1. Tipos numéricos y cadenas de caracteres"
   ]
  },
  {
   "cell_type": "code",
   "execution_count": 11,
   "metadata": {
    "attributes": {
     "classes": [
      "sourceCode"
     ],
     "id": ""
    },
    "colab": {
     "base_uri": "https://localhost:8080/"
    },
    "executionInfo": {
     "elapsed": 50,
     "status": "ok",
     "timestamp": 1664992956389,
     "user": {
      "displayName": "Alexandra Abos Ortega",
      "userId": "12009012866427188327"
     },
     "user_tz": -120
    },
    "id": "7WGvU8modSv3",
    "outputId": "b2aefa3c-886d-4dca-81bf-3462e58a004b"
   },
   "outputs": [
    {
     "name": "stdout",
     "output_type": "stream",
     "text": [
      "-4\n",
      "6\n",
      "-5\n",
      "-0.2\n",
      "-1\n"
     ]
    }
   ],
   "source": [
    "# Un número entero\n",
    "int_var = 1\n",
    "another_int_var = -5\n",
    "\n",
    "# Podemos sumarlos, restarlos, multiplicarlos o dividirlos.\n",
    "print(int_var + another_int_var)\n",
    "print(int_var - another_int_var)\n",
    "print(int_var * another_int_var)\n",
    "print(int_var / another_int_var)\n",
    "\n",
    "# También podemos hacer la división entera.\n",
    "# Como solo tratamos con números enteros, no habrá parte decimal.\n",
    "print(int_var // another_int_var)"
   ]
  },
  {
   "cell_type": "markdown",
   "metadata": {
    "id": "9-HY_WpkdSv3"
   },
   "source": [
    "El comportamiento del operador `/` es una de las diferencias entre Python 2 y Python 3. Mientras que en Python 3, el operador `/` hace la división real entre dos números enteros (fijaos que `1 / -5` mujer como resultado `0.2`), Python 2 hacía la división entera (por lo tanto, el resultado de ejecutar` 1 / -5` en Python 2 sería `-1`). Notad que usamos el operador `//` para expresar la división entera en Python 3."
   ]
  },
  {
   "cell_type": "code",
   "execution_count": 12,
   "metadata": {
    "attributes": {
     "classes": [
      "sourceCode"
     ],
     "id": ""
    },
    "colab": {
     "base_uri": "https://localhost:8080/"
    },
    "executionInfo": {
     "elapsed": 47,
     "status": "ok",
     "timestamp": 1664992956390,
     "user": {
      "displayName": "Alexandra Abos Ortega",
      "userId": "12009012866427188327"
     },
     "user_tz": -120
    },
    "id": "9pCJ96mvdSv3",
    "outputId": "76cbae0a-ffd4-4725-a18f-bea14bb52987"
   },
   "outputs": [
    {
     "name": "stdout",
     "output_type": "stream",
     "text": [
      "3.2\n",
      "-1.8\n",
      "1.75\n",
      "0.27999999999999997\n",
      "0.0\n"
     ]
    }
   ],
   "source": [
    "# Un número decimal o 'float'\n",
    "float_var = 2.5\n",
    "another_float_var = .7\n",
    "\n",
    "# Convertimos un número entero en uno decimal \n",
    "# mediante la función 'float() '\n",
    "encore_float = float(7)\n",
    "\n",
    "# Podemos hacer lo mismo en sentido contrario \n",
    "# con la función 'int()'\n",
    "new_int = int(encore_float)\n",
    "\n",
    "# Podemos hacer las mismas operaciones que \n",
    "# en el caso de los números enteros, \n",
    "# pero en este caso la división será\n",
    "# decimal si alguno de los números es decimal.\n",
    "print(another_float_var + float_var)\n",
    "print(another_float_var - float_var)\n",
    "print(another_float_var * float_var)\n",
    "print(another_float_var / float_var)\n",
    "print(another_float_var // float_var)"
   ]
  },
  {
   "cell_type": "code",
   "execution_count": 13,
   "metadata": {
    "attributes": {
     "classes": [
      "sourceCode"
     ],
     "id": ""
    },
    "colab": {
     "base_uri": "https://localhost:8080/"
    },
    "executionInfo": {
     "elapsed": 45,
     "status": "ok",
     "timestamp": 1664992956390,
     "user": {
      "displayName": "Alexandra Abos Ortega",
      "userId": "12009012866427188327"
     },
     "user_tz": -120
    },
    "id": "VFO4l7IfdSv4",
    "outputId": "77e8514e-1ee6-4ec7-c87a-21382999f0dd"
   },
   "outputs": [
    {
     "name": "stdout",
     "output_type": "stream",
     "text": [
      "3.0\n",
      "2.0\n"
     ]
    }
   ],
   "source": [
    "# Un número complejo\n",
    "complex_var = 2 + 3j\n",
    "\n",
    "# Podemos acceder a la parte imaginaria o a la parte real:\n",
    "print(complex_var.imag)\n",
    "print(complex_var.real)"
   ]
  },
  {
   "cell_type": "code",
   "execution_count": 14,
   "metadata": {
    "colab": {
     "base_uri": "https://localhost:8080/"
    },
    "executionInfo": {
     "elapsed": 44,
     "status": "ok",
     "timestamp": 1664992956391,
     "user": {
      "displayName": "Alexandra Abos Ortega",
      "userId": "12009012866427188327"
     },
     "user_tz": -120
    },
    "id": "8gbd1WxEdSv4",
    "outputId": "046a025e-f438-4c21-fe07-8efe9a3b34e0"
   },
   "outputs": [
    {
     "name": "stdout",
     "output_type": "stream",
     "text": [
      "Hello, Bio! ñç\n"
     ]
    }
   ],
   "source": [
    "# Cadena de caracteres\n",
    "my_string = 'Hello, Bio! ñç'\n",
    "print(my_string)"
   ]
  },
  {
   "cell_type": "markdown",
   "metadata": {
    "id": "6t-AfIn6dSv4"
   },
   "source": [
    "Fijaos que podemos incluir caracteres unicode (como `ñ`o`ç`) en las cadenas. Esto también es una novedad de Python 3 (las variables de tipos `str` son ahora UTF-8)."
   ]
  },
  {
   "cell_type": "code",
   "execution_count": 15,
   "metadata": {
    "attributes": {
     "classes": [
      "sourceCode"
     ],
     "id": ""
    },
    "colab": {
     "base_uri": "https://localhost:8080/"
    },
    "executionInfo": {
     "elapsed": 43,
     "status": "ok",
     "timestamp": 1664992956391,
     "user": {
      "displayName": "Alexandra Abos Ortega",
      "userId": "12009012866427188327"
     },
     "user_tz": -120
    },
    "id": "Juh0bz1ldSv5",
    "outputId": "d8f24531-9d7e-4131-b0a9-76379aac431c"
   },
   "outputs": [
    {
     "name": "stdout",
     "output_type": "stream",
     "text": [
      "Hello, Bio! ñc\n",
      "Hello, Guido! You've got 5 new emails\n"
     ]
    }
   ],
   "source": [
    "# Podemos concatenar dos cadenas usando el operador '+'.\n",
    "same_string = 'Hello, ' + 'Bio' + '!' + ' ñc'\n",
    "print(same_string)\n",
    "\n",
    "# En Python también podemos emplear wildcards \n",
    "# como en la función 'sprintf' de C. \n",
    "# Por ejemplo:\n",
    "name = \"Guido\"\n",
    "num_emails = 5\n",
    "print(\"Hello, %s! You've got %d new emails\" % (name, num_emails))"
   ]
  },
  {
   "cell_type": "markdown",
   "metadata": {
    "id": "XKU6e27OdSv5"
   },
   "source": [
    "En el ejemplo anterior, hemos sustituido en el _string_ la cadena *%s* por el\n",
    "contenido de la variable *name*, que es un _string_, y *%d* por\n",
    "*num_emails*, que es un número entero. También podríamos usar *%f* para\n",
    "números decimales (podríamos indicar la precisión, por ejemplo, con *%5.3f*, el número tendría una medida total de cinco cifras, y tres serían para la parte decimal). Hay otras muchas posibilidades, pero tendremos que\n",
    "tener en cuenta el tipo de variable que queremos sustituir. Por ejemplo,\n",
    "si usamos *%d* y el contenido es _string_, Python devolverá un\n",
    "mensaje de error. Para evitar esta situación, se recomienda el uso de la\n",
    "función *str()* para convertir el valor en _string_.\n",
    "\n",
    "También podemos mostrar el contenido de las variables sin especificar el tipo, usando `formato`:"
   ]
  },
  {
   "cell_type": "code",
   "execution_count": 16,
   "metadata": {
    "colab": {
     "base_uri": "https://localhost:8080/"
    },
    "executionInfo": {
     "elapsed": 41,
     "status": "ok",
     "timestamp": 1664992956392,
     "user": {
      "displayName": "Alexandra Abos Ortega",
      "userId": "12009012866427188327"
     },
     "user_tz": -120
    },
    "id": "WSgi-60ZdSv5",
    "outputId": "3e476df7-c3c9-4c07-9b93-127e65f781bc"
   },
   "outputs": [
    {
     "name": "stdout",
     "output_type": "stream",
     "text": [
      "Hello, Guido! You've got 5 new emails\n"
     ]
    }
   ],
   "source": [
    "print(\"Hello, {}! You've got {} new emails\".format(name, num_emails))"
   ]
  },
  {
   "cell_type": "markdown",
   "metadata": {
    "id": "6i6UF08adSv5"
   },
   "source": [
    "### 5.4.2. Listas, tuplas y diccionarios\n",
    "\n",
    "Ahora presentaremos otros tipos de datos nativos más complejos: listas,\n",
    "tuplas y diccionarios:"
   ]
  },
  {
   "cell_type": "code",
   "execution_count": 17,
   "metadata": {
    "colab": {
     "base_uri": "https://localhost:8080/"
    },
    "executionInfo": {
     "elapsed": 39,
     "status": "ok",
     "timestamp": 1664992956392,
     "user": {
      "displayName": "Alexandra Abos Ortega",
      "userId": "12009012866427188327"
     },
     "user_tz": -120
    },
    "id": "4vlwD0POdSv5",
    "outputId": "a2b44c43-ceb4-4fb3-bf76-9b833c6df80b"
   },
   "outputs": [
    {
     "name": "stdout",
     "output_type": "stream",
     "text": [
      "['3', 'a string', ['a list inside another list', 'second item'], 7.5]\n"
     ]
    }
   ],
   "source": [
    "# Definimos una lista con el nombre de los planetas (string).\n",
    "planets = ['Mercury', 'Venus', 'Earth', 'Mars',\n",
    "           'Jupiter', 'Saturno', 'Uranus', 'Neptune']\n",
    "\n",
    "# También puede contener números.\n",
    "prime_numbers = [2, 3, 5, 7]\n",
    "\n",
    "# Una lista vacía\n",
    "empty_list = []\n",
    "\n",
    "# O una mezcla de cualquier tipo:\n",
    "sandbox = ['3', 'a string', \n",
    "           ['a list inside another list', 'second item'], \n",
    "           7.5]\n",
    "\n",
    "# Mostramos los elementos en pantalla\n",
    "print(sandbox)"
   ]
  },
  {
   "cell_type": "code",
   "execution_count": 18,
   "metadata": {
    "attributes": {
     "classes": [
      "sourceCode"
     ],
     "id": ""
    },
    "colab": {
     "base_uri": "https://localhost:8080/"
    },
    "executionInfo": {
     "elapsed": 39,
     "status": "ok",
     "timestamp": 1664992956393,
     "user": {
      "displayName": "Alexandra Abos Ortega",
      "userId": "12009012866427188327"
     },
     "user_tz": -120
    },
    "id": "YoCNIVgfdSv6",
    "outputId": "e639536a-0b6c-4fc2-941b-4b630dc14210"
   },
   "outputs": [
    {
     "name": "stdout",
     "output_type": "stream",
     "text": [
      "['Mercury', 'Venus', 'Earth', 'Mars', 'Jupiter', 'Saturno', 'Uranus', 'Neptune', 'Pluto']\n"
     ]
    }
   ],
   "source": [
    "# Podemos añadir elementos a una lista.\n",
    "planets.append('Pluto')\n",
    "print(planets)"
   ]
  },
  {
   "cell_type": "code",
   "execution_count": 19,
   "metadata": {
    "attributes": {
     "classes": [
      "sourceCode"
     ],
     "id": ""
    },
    "colab": {
     "base_uri": "https://localhost:8080/"
    },
    "executionInfo": {
     "elapsed": 37,
     "status": "ok",
     "timestamp": 1664992956393,
     "user": {
      "displayName": "Alexandra Abos Ortega",
      "userId": "12009012866427188327"
     },
     "user_tz": -120
    },
    "id": "UXJU_cerdSv6",
    "outputId": "799359bd-c3a0-4217-9404-3a2c1f617bca"
   },
   "outputs": [
    {
     "name": "stdout",
     "output_type": "stream",
     "text": [
      "['Mercury', 'Venus', 'Earth', 'Mars', 'Jupiter', 'Saturno', 'Uranus', 'Neptune']\n"
     ]
    }
   ],
   "source": [
    "# O  podemos eliminar.\n",
    "planets.remove('Pluto')\n",
    "print(planets)"
   ]
  },
  {
   "cell_type": "code",
   "execution_count": 20,
   "metadata": {
    "attributes": {
     "classes": [
      "sourceCode"
     ],
     "id": ""
    },
    "colab": {
     "base_uri": "https://localhost:8080/"
    },
    "executionInfo": {
     "elapsed": 36,
     "status": "ok",
     "timestamp": 1664992956394,
     "user": {
      "displayName": "Alexandra Abos Ortega",
      "userId": "12009012866427188327"
     },
     "user_tz": -120
    },
    "id": "nJ9b3T7adSv6",
    "outputId": "8754cf1f-6b6d-4c1b-cdbe-9e1e0423885b"
   },
   "outputs": [
    {
     "name": "stdout",
     "output_type": "stream",
     "text": [
      "['Mercury', 'Earth', 'Mars', 'Jupiter', 'Saturno', 'Uranus', 'Neptune']\n"
     ]
    }
   ],
   "source": [
    "# Podemos eliminar cualquier elemento de la lista.\n",
    "planets.remove('Venus')\n",
    "print(planets)"
   ]
  },
  {
   "cell_type": "code",
   "execution_count": 21,
   "metadata": {
    "attributes": {
     "classes": [
      "sourceCode"
     ],
     "id": ""
    },
    "colab": {
     "base_uri": "https://localhost:8080/"
    },
    "executionInfo": {
     "elapsed": 34,
     "status": "ok",
     "timestamp": 1664992956394,
     "user": {
      "displayName": "Alexandra Abos Ortega",
      "userId": "12009012866427188327"
     },
     "user_tz": -120
    },
    "id": "d35xLHOEdSv6",
    "outputId": "60791b39-6961-4971-cde9-307336716c58"
   },
   "outputs": [
    {
     "name": "stdout",
     "output_type": "stream",
     "text": [
      "['Mercury', 'Earth', 'Mars', 'Jupiter', 'Saturno', 'Uranus', 'Neptune', 'Venus']\n"
     ]
    }
   ],
   "source": [
    "# Siempre que añadimos, será al final de la lista. \n",
    "# Una lista está ordenada.\n",
    "planets.append('Venus')\n",
    "print(planets)"
   ]
  },
  {
   "cell_type": "code",
   "execution_count": 22,
   "metadata": {
    "attributes": {
     "classes": [
      "sourceCode"
     ],
     "id": ""
    },
    "colab": {
     "base_uri": "https://localhost:8080/"
    },
    "executionInfo": {
     "elapsed": 33,
     "status": "ok",
     "timestamp": 1664992956395,
     "user": {
      "displayName": "Alexandra Abos Ortega",
      "userId": "12009012866427188327"
     },
     "user_tz": -120
    },
    "id": "oStIOnvLdSv6",
    "outputId": "82be8b89-c82d-4849-9614-c800e4a7d405"
   },
   "outputs": [
    {
     "name": "stdout",
     "output_type": "stream",
     "text": [
      "['Earth', 'Jupiter', 'Mars', 'Mercury', 'Neptune', 'Saturno', 'Uranus', 'Venus']\n"
     ]
    }
   ],
   "source": [
    "# Si queremos ordenarla alfabéticamente, \n",
    "# podemos usar la función 'sorted()'\n",
    "print(sorted(planets))"
   ]
  },
  {
   "cell_type": "code",
   "execution_count": 23,
   "metadata": {
    "attributes": {
     "classes": [
      "sourceCode"
     ],
     "id": ""
    },
    "colab": {
     "base_uri": "https://localhost:8080/"
    },
    "executionInfo": {
     "elapsed": 31,
     "status": "ok",
     "timestamp": 1664992956395,
     "user": {
      "displayName": "Alexandra Abos Ortega",
      "userId": "12009012866427188327"
     },
     "user_tz": -120
    },
    "id": "UkMZ0tdldSv7",
    "outputId": "6f8d7bbf-d238-481e-f7bc-7464def8ffca"
   },
   "outputs": [
    {
     "name": "stdout",
     "output_type": "stream",
     "text": [
      "['Godzilla', 'King Kong', 'Cthulu']\n"
     ]
    }
   ],
   "source": [
    "# Podemos concatenar dos listas:\n",
    "monsters = ['Godzilla', 'King Kong']\n",
    "more_monsters = ['Cthulu']\n",
    "\n",
    "# Mostramos el resultado en pantalla\n",
    "print(monsters + more_monsters)"
   ]
  },
  {
   "cell_type": "code",
   "execution_count": 24,
   "metadata": {
    "attributes": {
     "classes": [
      "sourceCode"
     ],
     "id": ""
    },
    "colab": {
     "base_uri": "https://localhost:8080/"
    },
    "executionInfo": {
     "elapsed": 30,
     "status": "ok",
     "timestamp": 1664992956396,
     "user": {
      "displayName": "Alexandra Abos Ortega",
      "userId": "12009012866427188327"
     },
     "user_tz": -120
    },
    "id": "3-xTClovdSv7",
    "outputId": "33991619-5e95-41b8-a2e4-67ce3fda616e"
   },
   "outputs": [
    {
     "name": "stdout",
     "output_type": "stream",
     "text": [
      "['Godzilla', 'King Kong', 'Cthulu']\n"
     ]
    }
   ],
   "source": [
    "# Podemos concatenar una lista con otra \n",
    "# y guardarla a la misma lista:\n",
    "monsters.extend(more_monsters)\n",
    "\n",
    "# Mostramos el resultado en pantalla\n",
    "print(monsters)"
   ]
  },
  {
   "cell_type": "code",
   "execution_count": 25,
   "metadata": {
    "attributes": {
     "classes": [
      "sourceCode"
     ],
     "id": ""
    },
    "colab": {
     "base_uri": "https://localhost:8080/"
    },
    "executionInfo": {
     "elapsed": 28,
     "status": "ok",
     "timestamp": 1664992956396,
     "user": {
      "displayName": "Alexandra Abos Ortega",
      "userId": "12009012866427188327"
     },
     "user_tz": -120
    },
    "id": "buDN2i16dSv7",
    "outputId": "b65cceff-94d8-4608-bbaf-850f4d4d7fd7"
   },
   "outputs": [
    {
     "name": "stdout",
     "output_type": "stream",
     "text": [
      "Godzilla\n",
      "King Kong\n",
      "Cthulu\n",
      "King Kong\n"
     ]
    }
   ],
   "source": [
    "# Podemos acceder a un elemento en concreto de la lista:\n",
    "print(monsters[0])\n",
    "\n",
    "# El primer elemento de una lista es el 0, por lo tanto, el segundo será el 1:\n",
    "print(monsters[1])\n",
    "\n",
    "# Podemos acceder al último elemento mediante números negativos:\n",
    "print(monsters[-1])\n",
    "\n",
    "# Penúltimo:\n",
    "print(monsters[-2])"
   ]
  },
  {
   "cell_type": "code",
   "execution_count": 26,
   "metadata": {
    "colab": {
     "base_uri": "https://localhost:8080/"
    },
    "executionInfo": {
     "elapsed": 27,
     "status": "ok",
     "timestamp": 1664992956397,
     "user": {
      "displayName": "Alexandra Abos Ortega",
      "userId": "12009012866427188327"
     },
     "user_tz": -120
    },
    "id": "BIi7lJGvdSv7",
    "outputId": "995a2359-4074-42cf-91f7-8f778d035f4f"
   },
   "outputs": [
    {
     "name": "stdout",
     "output_type": "stream",
     "text": [
      "['Mercury', 'Venus']\n"
     ]
    }
   ],
   "source": [
    "# También podemos obtener partes de una lista \n",
    "# mediante la técnica de 'slicing'.\n",
    "planets = ['Mercury', 'Venus', 'Earth', 'Mars',\n",
    "           'Jupiter', 'Saturno', 'Uranus', 'Neptune']\n",
    "\n",
    "# Por ejemplo, los dos primeros elementos:\n",
    "print(planets[:2])"
   ]
  },
  {
   "cell_type": "code",
   "execution_count": 27,
   "metadata": {
    "colab": {
     "base_uri": "https://localhost:8080/"
    },
    "executionInfo": {
     "elapsed": 25,
     "status": "ok",
     "timestamp": 1664992956397,
     "user": {
      "displayName": "Alexandra Abos Ortega",
      "userId": "12009012866427188327"
     },
     "user_tz": -120
    },
    "id": "iPltyQzTdSv7",
    "outputId": "e11fd008-6bbf-4a79-c6c4-fd74122fbbf4"
   },
   "outputs": [
    {
     "name": "stdout",
     "output_type": "stream",
     "text": [
      "['Earth', 'Mars', 'Jupiter']\n"
     ]
    }
   ],
   "source": [
    "# O los elementos entre las posiciones 2 y 4\n",
    "print(planets[2:5])"
   ]
  },
  {
   "cell_type": "markdown",
   "metadata": {
    "id": "s-cBIGTldSv8"
   },
   "source": [
    "Fijaos en este último ejemplo: en la posición 2  encontramos el tercer elemento de la lista (`'Earth'`), puesto que la lista empieza a indexar en 0. Además, el último elemento indicado (la posición` 5`) no se incluye."
   ]
  },
  {
   "cell_type": "code",
   "execution_count": 28,
   "metadata": {
    "attributes": {
     "classes": [
      "sourceCode"
     ],
     "id": ""
    },
    "colab": {
     "base_uri": "https://localhost:8080/"
    },
    "executionInfo": {
     "elapsed": 25,
     "status": "ok",
     "timestamp": 1664992956398,
     "user": {
      "displayName": "Alexandra Abos Ortega",
      "userId": "12009012866427188327"
     },
     "user_tz": -120
    },
    "id": "7JdBb8BSdSv8",
    "outputId": "0f890a84-5a0c-4e15-bb75-28c67cc3c754"
   },
   "outputs": [
    {
     "name": "stdout",
     "output_type": "stream",
     "text": [
      "['Venus', 'Earth', 'Mars', 'Jupiter', 'Saturno', 'Uranus']\n"
     ]
    }
   ],
   "source": [
    "# O los elementos del segundo al penúltimo:\n",
    "print(planets[1:-1])"
   ]
  },
  {
   "cell_type": "markdown",
   "metadata": {
    "id": "85u_CkxMdSv8"
   },
   "source": [
    "La técnica de _**slicing**_ es muy importante y nos permite gestionar\n",
    "listas de una manera muy sencilla y potente. Será imprescindible dominarla para afrontar muchos de los problemas que tendremos que resolver en el campo de\n",
    "la ciencia de datos."
   ]
  },
  {
   "cell_type": "code",
   "execution_count": 29,
   "metadata": {
    "attributes": {
     "classes": [
      "sourceCode"
     ],
     "id": ""
    },
    "colab": {
     "base_uri": "https://localhost:8080/"
    },
    "executionInfo": {
     "elapsed": 23,
     "status": "ok",
     "timestamp": 1664992956398,
     "user": {
      "displayName": "Alexandra Abos Ortega",
      "userId": "12009012866427188327"
     },
     "user_tz": -120
    },
    "id": "HoH6uOo4dSv8",
    "outputId": "546d2ecb-f807-4072-94dc-ce54a73f9af7"
   },
   "outputs": [
    {
     "name": "stdout",
     "output_type": "stream",
     "text": [
      "['Godzilla', 'King Kong', 'Kraken']\n"
     ]
    }
   ],
   "source": [
    "# Podemos modificar un elemento en concreto de una lista:\n",
    "monsters = ['Godzilla', 'King Kong', 'Cthulu']\n",
    "monsters[-1] = 'Kraken'\n",
    "\n",
    "# Mostramos la lista en pantalla\n",
    "print(monsters)"
   ]
  },
  {
   "cell_type": "code",
   "execution_count": 30,
   "metadata": {
    "attributes": {
     "classes": [
      "sourceCode"
     ],
     "id": ""
    },
    "colab": {
     "base_uri": "https://localhost:8080/",
     "height": 200
    },
    "executionInfo": {
     "elapsed": 23,
     "status": "error",
     "timestamp": 1664992956399,
     "user": {
      "displayName": "Alexandra Abos Ortega",
      "userId": "12009012866427188327"
     },
     "user_tz": -120
    },
    "id": "zHjrYNTadSv8",
    "outputId": "123bfb13-4991-4dfd-e653-a580f2acd038"
   },
   "outputs": [
    {
     "ename": "TypeError",
     "evalue": "ignored",
     "output_type": "error",
     "traceback": [
      "\u001b[0;31m---------------------------------------------------------------------------\u001b[0m",
      "\u001b[0;31mTypeError\u001b[0m                                 Traceback (most recent call last)",
      "\u001b[0;32m<ipython-input-30-78ae8e82e12c>\u001b[0m in \u001b[0;36m<module>\u001b[0;34m\u001b[0m\n\u001b[1;32m      5\u001b[0m \u001b[0;34m\u001b[0m\u001b[0m\n\u001b[1;32m      6\u001b[0m \u001b[0;31m# Si ejecutamos la línea siguiente, obtendremos un error de tipo 'TypeError'\u001b[0m\u001b[0;34m\u001b[0m\u001b[0;34m\u001b[0m\u001b[0;34m\u001b[0m\u001b[0m\n\u001b[0;32m----> 7\u001b[0;31m \u001b[0mbirth_year\u001b[0m\u001b[0;34m[\u001b[0m\u001b[0;36m1\u001b[0m\u001b[0;34m]\u001b[0m \u001b[0;34m=\u001b[0m \u001b[0;36m1984\u001b[0m\u001b[0;34m\u001b[0m\u001b[0;34m\u001b[0m\u001b[0m\n\u001b[0m",
      "\u001b[0;31mTypeError\u001b[0m: 'tuple' object does not support item assignment"
     ]
    }
   ],
   "source": [
    "# Una tupla es un tipo muy parecido a una lista, \n",
    "# pero es inmutable, es decir, una vez declarada \n",
    "# no podemos añadir elementos ni eliminar:\n",
    "birth_year = ('Stephen Hawking', 1942)\n",
    "\n",
    "# Si ejecutamos la línea siguiente, obtendremos un error de tipo 'TypeError'\n",
    "birth_year[1] = 1984"
   ]
  },
  {
   "cell_type": "markdown",
   "metadata": {
    "id": "o3KWDUekdSv8"
   },
   "source": [
    "Los errores en Python suelen ser muy informativos. Una investigación en internet\n",
    "nos ayudará en la gran mayoría de problemas que podamos tener."
   ]
  },
  {
   "cell_type": "code",
   "execution_count": 31,
   "metadata": {
    "attributes": {
     "classes": [
      "sourceCode"
     ],
     "id": ""
    },
    "colab": {
     "base_uri": "https://localhost:8080/"
    },
    "executionInfo": {
     "elapsed": 5,
     "status": "ok",
     "timestamp": 1664992960005,
     "user": {
      "displayName": "Alexandra Abos Ortega",
      "userId": "12009012866427188327"
     },
     "user_tz": -120
    },
    "id": "zY-MVKnYdSv9",
    "outputId": "aff56413-ff21-40b8-d436-28c4218d4c5c"
   },
   "outputs": [
    {
     "name": "stdout",
     "output_type": "stream",
     "text": [
      "t\n",
      "Einstein\n",
      "Einstein\n",
      "['E', 'i', 'n', 's', 't', 'e', 'i', 'n']\n",
      "Einstein\n",
      "E.i.n.s.t.e.i.n\n"
     ]
    }
   ],
   "source": [
    "# Un string también es considerado una lista de caracteres.\n",
    "# Así pues, podemos acceder a una posición determinada \n",
    "# (a pesar de que no modificarla):\n",
    "name = 'Albert Einstein'\n",
    "print(name[5])\n",
    "\n",
    "# Podemos usar slicing también con las cadenas de caracteres\n",
    "print(name[7:15])\n",
    "\n",
    "# Podemos separar un string por el carácter que consideremos.\n",
    "# En este caso, por el espacio en blanco, usando\n",
    "# la función 'split()'.\n",
    "n, surname = name.split()\n",
    "print(surname)\n",
    "\n",
    "# Y podemos convertir un determinado string en una lista \n",
    "# de caracteres fácilmente:\n",
    "chars = list(surname)\n",
    "print(chars)\n",
    "\n",
    "# Para unir los diferentes elementos de una lista \n",
    "# mediante un carácter, podemos usar la función \n",
    "# 'join()':\n",
    "print(''.join(chars))\n",
    "print('.'.join(chars))"
   ]
  },
  {
   "cell_type": "code",
   "execution_count": 32,
   "metadata": {
    "attributes": {
     "classes": [
      "sourceCode"
     ],
     "id": ""
    },
    "colab": {
     "base_uri": "https://localhost:8080/"
    },
    "executionInfo": {
     "elapsed": 14,
     "status": "ok",
     "timestamp": 1664992961202,
     "user": {
      "displayName": "Alexandra Abos Ortega",
      "userId": "12009012866427188327"
     },
     "user_tz": -120
    },
    "id": "F8kgW9Z2dSv9",
    "outputId": "d1d92982-3c8f-45fa-b189-012bdbc9650f"
   },
   "outputs": [
    {
     "name": "stdout",
     "output_type": "stream",
     "text": [
      "-5\n",
      "5\n"
     ]
    }
   ],
   "source": [
    "# El operador ',' es el creador de tuplas. \n",
    "# Por ejemplo, el típico problema de asignar el valor de una \n",
    "# variable a otra, en Python se puede resolver \n",
    "# en una línea de una manera muy elegante usando \n",
    "# tuples (se trata de un idiom):\n",
    "a = 5\n",
    "b = -5\n",
    "a, b = b, a\n",
    "print(a)\n",
    "print(b)"
   ]
  },
  {
   "cell_type": "markdown",
   "metadata": {
    "id": "aI7WeF1ZdSv9"
   },
   "source": [
    "El anterior ejemplo es un *idiom* típico de Python. En la tercera línea,\n",
    "creamos una tupla (a,b) a la que asignamos los valores uno por uno de la\n",
    "tupla (b,a). Los paréntesis no son necesarios, y por eso queda una\n",
    "notación tan reducida.\n",
    "\n",
    "Para acabar, presentaremos los diccionarios, una estructura de datos muy\n",
    "útil a la que asignamos un valor a una clave en el diccionario:"
   ]
  },
  {
   "cell_type": "code",
   "execution_count": 33,
   "metadata": {
    "attributes": {
     "classes": [
      "sourceCode"
     ],
     "id": ""
    },
    "colab": {
     "base_uri": "https://localhost:8080/"
    },
    "executionInfo": {
     "elapsed": 13,
     "status": "ok",
     "timestamp": 1664992961203,
     "user": {
      "displayName": "Alexandra Abos Ortega",
      "userId": "12009012866427188327"
     },
     "user_tz": -120
    },
    "id": "AGrAJJrVdSv9",
    "outputId": "a14c89b5-e388-4473-fb29-bb089c3ea7dc"
   },
   "outputs": [
    {
     "name": "stdout",
     "output_type": "stream",
     "text": [
      "Spain\n"
     ]
    }
   ],
   "source": [
    "# Códigos internacionales de algunos países. \n",
    "# La clave o 'key' es el código de país, y el valor, su nombre:\n",
    "country_codes = {34: 'Spain', 376: 'Andorra', \n",
    "                 41: 'Switzerland', 424: None}\n",
    "\n",
    "# Podemos buscar\n",
    "my_code = 34\n",
    "country = country_codes[my_code]\n",
    "print(country)"
   ]
  },
  {
   "cell_type": "code",
   "execution_count": 34,
   "metadata": {
    "attributes": {
     "classes": [
      "sourceCode"
     ],
     "id": ""
    },
    "colab": {
     "base_uri": "https://localhost:8080/"
    },
    "executionInfo": {
     "elapsed": 10,
     "status": "ok",
     "timestamp": 1664992961203,
     "user": {
      "displayName": "Alexandra Abos Ortega",
      "userId": "12009012866427188327"
     },
     "user_tz": -120
    },
    "id": "FQtCjKyjdSv9",
    "outputId": "2ba7f2a7-a610-4645-81ba-50afcb5c404d"
   },
   "outputs": [
    {
     "name": "stdout",
     "output_type": "stream",
     "text": [
      "dict_keys([34, 376, 41, 424])\n"
     ]
    }
   ],
   "source": [
    "# Podemos obtener todas las claves:\n",
    "print(country_codes.keys())"
   ]
  },
  {
   "cell_type": "code",
   "execution_count": 35,
   "metadata": {
    "attributes": {
     "classes": [
      "sourceCode"
     ],
     "id": ""
    },
    "colab": {
     "base_uri": "https://localhost:8080/"
    },
    "executionInfo": {
     "elapsed": 383,
     "status": "ok",
     "timestamp": 1664992961579,
     "user": {
      "displayName": "Alexandra Abos Ortega",
      "userId": "12009012866427188327"
     },
     "user_tz": -120
    },
    "id": "B_s645qfdSv9",
    "outputId": "fbc6a90c-32e7-42fd-d914-dbbff0a1b584"
   },
   "outputs": [
    {
     "name": "stdout",
     "output_type": "stream",
     "text": [
      "dict_values(['Spain', 'Andorra', 'Switzerland', None])\n"
     ]
    }
   ],
   "source": [
    "# O los valores:\n",
    "print(country_codes.values())"
   ]
  },
  {
   "cell_type": "code",
   "execution_count": 36,
   "metadata": {
    "attributes": {
     "classes": [
      "sourceCode"
     ],
     "id": ""
    },
    "colab": {
     "base_uri": "https://localhost:8080/"
    },
    "executionInfo": {
     "elapsed": 14,
     "status": "ok",
     "timestamp": 1664992961579,
     "user": {
      "displayName": "Alexandra Abos Ortega",
      "userId": "12009012866427188327"
     },
     "user_tz": -120
    },
    "id": "vgrOGoMtdSv-",
    "outputId": "78cfdcc5-66bd-4ca5-d92c-c73e41bdc735"
   },
   "outputs": [
    {
     "name": "stdout",
     "output_type": "stream",
     "text": [
      "{34: 'Spain', 81: 'Japan'}\n"
     ]
    }
   ],
   "source": [
    "# Podemos modificar valores en el diccionario o añadir nuevas claves.\n",
    "# Definimos un diccionario vacío. \n",
    "# 'country_codes = dict()' es una notación equivalente:\n",
    "country_codes = {}\n",
    "\n",
    "# Añadimos un elemento:\n",
    "country_codes[34] = 'Spain'\n",
    "\n",
    "#  añadimos otro:\n",
    "country_codes[81] = 'Japan'\n",
    "\n",
    "print(country_codes)"
   ]
  },
  {
   "cell_type": "code",
   "execution_count": 37,
   "metadata": {
    "attributes": {
     "classes": [
      "sourceCode"
     ],
     "id": ""
    },
    "colab": {
     "base_uri": "https://localhost:8080/"
    },
    "executionInfo": {
     "elapsed": 13,
     "status": "ok",
     "timestamp": 1664992961579,
     "user": {
      "displayName": "Alexandra Abos Ortega",
      "userId": "12009012866427188327"
     },
     "user_tz": -120
    },
    "id": "-7yHkbSMdSv-",
    "outputId": "77d54c8b-5ea0-4b70-94d1-959405536707"
   },
   "outputs": [
    {
     "name": "stdout",
     "output_type": "stream",
     "text": [
      "{34: 'Spain', 81: 'Andorra'}\n"
     ]
    }
   ],
   "source": [
    "# Modificamos el diccionario:\n",
    "country_codes[81] = 'Andorra'\n",
    "\n",
    "print(country_codes)"
   ]
  },
  {
   "cell_type": "code",
   "execution_count": 38,
   "metadata": {
    "attributes": {
     "classes": [
      "sourceCode"
     ],
     "id": ""
    },
    "colab": {
     "base_uri": "https://localhost:8080/"
    },
    "executionInfo": {
     "elapsed": 10,
     "status": "ok",
     "timestamp": 1664992961580,
     "user": {
      "displayName": "Alexandra Abos Ortega",
      "userId": "12009012866427188327"
     },
     "user_tz": -120
    },
    "id": "uh1S2n02dSv-",
    "outputId": "c901d37e-58d3-447d-9453-d12d09da8ca5"
   },
   "outputs": [
    {
     "name": "stdout",
     "output_type": "stream",
     "text": [
      "{34: 'Spain', 81: None}\n"
     ]
    }
   ],
   "source": [
    "# Podemos asignar el valor vacío a un elemento:\n",
    "country_codes[81] = None\n",
    "\n",
    "print(country_codes)"
   ]
  },
  {
   "cell_type": "markdown",
   "metadata": {
    "id": "aM1d0FLSdSv-"
   },
   "source": [
    "Los valores vacíos nos serán útiles para declarar una variable que no\n",
    "sepamos qué valor o qué tipo de valor contendrá y para hacer comparaciones entre variables. Habitualmente, los valores vacíos son _None_ o\n",
    "'', en el caso de las cadenas de caracteres."
   ]
  },
  {
   "cell_type": "code",
   "execution_count": 39,
   "metadata": {
    "attributes": {
     "classes": [
      "sourceCode"
     ],
     "id": ""
    },
    "colab": {
     "base_uri": "https://localhost:8080/"
    },
    "executionInfo": {
     "elapsed": 7,
     "status": "ok",
     "timestamp": 1664992961580,
     "user": {
      "displayName": "Alexandra Abos Ortega",
      "userId": "12009012866427188327"
     },
     "user_tz": -120
    },
    "id": "FBwB2SufdSv-",
    "outputId": "00914524-426e-4557-87aa-6208027b5c20"
   },
   "outputs": [
    {
     "name": "stdout",
     "output_type": "stream",
     "text": [
      "5 1\n",
      "5 5\n"
     ]
    }
   ],
   "source": [
    "# Podemos asignar el valor de una variable a otra. \n",
    "# Es importante que se entiendan las líneas siguientes:\n",
    "a = 5\n",
    "b = 1\n",
    "print(a, b)\n",
    "# b contiene la 'dirección' del contenedor al que apunta 'a'.\n",
    "b = a\n",
    "print(a, b)"
   ]
  },
  {
   "cell_type": "code",
   "execution_count": 40,
   "metadata": {
    "attributes": {
     "classes": [
      "sourceCode"
     ],
     "id": ""
    },
    "colab": {
     "base_uri": "https://localhost:8080/"
    },
    "executionInfo": {
     "elapsed": 6,
     "status": "ok",
     "timestamp": 1664992961912,
     "user": {
      "displayName": "Alexandra Abos Ortega",
      "userId": "12009012866427188327"
     },
     "user_tz": -120
    },
    "id": "tCZoIkI4dSv_",
    "outputId": "182523c2-35db-4e0d-836d-83f97d565620"
   },
   "outputs": [
    {
     "name": "stdout",
     "output_type": "stream",
     "text": [
      "6 5\n",
      "6 7\n"
     ]
    }
   ],
   "source": [
    "# Veamos ahora qué pasa si modificamos el valor de a o b:\n",
    "a = 6\n",
    "print(a, b)\n",
    "b = 7\n",
    "print(a, b)"
   ]
  },
  {
   "cell_type": "markdown",
   "metadata": {
    "id": "o7hD3vYAdSv_"
   },
   "source": [
    "Hasta aquí hemos presentado como es debido declarar y utilizar variables. Recomendamos la\n",
    "lectura de la [documentación oficial en linea](https://docs.python.org/3/tutorial/introduction.html)\n",
    "para fijar los conocimientos explicados."
   ]
  },
  {
   "cell_type": "markdown",
   "metadata": {
    "id": "HwlnZ47-dSv_"
   },
   "source": [
    "# 6. Organización del código\n",
    "\n",
    "Un módulo de Python es cualquier fichero con extensión *.py* que esté\n",
    "bajo la ruta del _path_ de Python. El path de Python se puede consultar\n",
    "importando la librería sys:"
   ]
  },
  {
   "cell_type": "code",
   "execution_count": 41,
   "metadata": {
    "colab": {
     "base_uri": "https://localhost:8080/"
    },
    "executionInfo": {
     "elapsed": 4,
     "status": "ok",
     "timestamp": 1664992962718,
     "user": {
      "displayName": "Alexandra Abos Ortega",
      "userId": "12009012866427188327"
     },
     "user_tz": -120
    },
    "id": "T6UKD3PgdSv_",
    "outputId": "5f635f6a-de35-4154-b984-f7b94c717788"
   },
   "outputs": [
    {
     "name": "stdout",
     "output_type": "stream",
     "text": [
      "['/content', '/env/python', '/usr/lib/python37.zip', '/usr/lib/python3.7', '/usr/lib/python3.7/lib-dynload', '', '/usr/local/lib/python3.7/dist-packages', '/usr/lib/python3/dist-packages', '/usr/local/lib/python3.7/dist-packages/IPython/extensions', '/root/.ipython']\n"
     ]
    }
   ],
   "source": [
    "import sys\n",
    "print(sys.path)"
   ]
  },
  {
   "cell_type": "markdown",
   "metadata": {
    "id": "HU7LhK6kdSv_"
   },
   "source": [
    "Por defecto, Python también mira las librerías que se hayan definido en\n",
    "la variable del entorno \\$PYTHONPATH (esto puede cambiar ligeramente en un\n",
    "[entorno Windows](https://docs.python.org/3/using/cmdline.html))."
   ]
  },
  {
   "cell_type": "markdown",
   "metadata": {
    "id": "HyFKVSM0dSv_"
   },
   "source": [
    "Un paquete en Python es cualquier directorio que contenga un fichero\n",
    "especial de nombre *\\_\\_init\\_\\_.py* (este fichero estará vacío la mayoría\n",
    "de veces).\n",
    "\n",
    "Un módulo puede contener diferentes funciones, variables u objetos. Por\n",
    "ejemplo, definimos un módulo de nombre *prog\\_datasci.py* que contenga:"
   ]
  },
  {
   "cell_type": "code",
   "execution_count": 42,
   "metadata": {
    "executionInfo": {
     "elapsed": 4,
     "status": "ok",
     "timestamp": 1664992963917,
     "user": {
      "displayName": "Alexandra Abos Ortega",
      "userId": "12009012866427188327"
     },
     "user_tz": -120
    },
    "id": "zpvlIcXVdSv_"
   },
   "outputs": [],
   "source": [
    "# prog_datasci.py\n",
    "\n",
    "PI = 3.14159265\n",
    "\n",
    "def suma(x, y):\n",
    "    return x + y\n",
    "\n",
    "def resta(x, y):\n",
    "    return x - y"
   ]
  },
  {
   "cell_type": "markdown",
   "metadata": {
    "id": "SMHOHyWXdSwA"
   },
   "source": [
    "Para usar desde otro módulo o _script_ estas funciones, tendríamos\n",
    "que escribir el siguiente:"
   ]
  },
  {
   "cell_type": "code",
   "execution_count": 43,
   "metadata": {
    "colab": {
     "base_uri": "https://localhost:8080/"
    },
    "executionInfo": {
     "elapsed": 19680,
     "status": "ok",
     "timestamp": 1664992983594,
     "user": {
      "displayName": "Alexandra Abos Ortega",
      "userId": "12009012866427188327"
     },
     "user_tz": -120
    },
    "id": "rdhD0bCsdSwA",
    "outputId": "37aaed6f-52fe-47d2-8940-ebbd5e1deccb"
   },
   "outputs": [
    {
     "name": "stdout",
     "output_type": "stream",
     "text": [
      "Mounted at /content/drive\n",
      "/content/drive/MyDrive/Colab_Notebooks/prog_datasci_2\n"
     ]
    }
   ],
   "source": [
    "# Especificamos la ruta donde está el fichero .py\n",
    "\n",
    "from google.colab import drive\n",
    "drive.mount('/content/drive')  \n",
    "%cd /content/drive/MyDrive/Colab_Notebooks/prog_datasci_2\n",
    "\n",
    "from prog_datasci import PI, suma, resta\n",
    "\n",
    "# Y entonces podríamos usarlas normalmente.\n",
    "rset = suma(2,5)"
   ]
  },
  {
   "cell_type": "markdown",
   "metadata": {
    "id": "M5ZObqsPdSwA"
   },
   "source": [
    "También se acostumbra a utilizar la palabra clave `as` para dar un nuevo nombre al módulo o funciones que se importan. Así, por ejemplo, podríamos hacer `from prog_datasci importe PI as mypi` para usar el nombre `mypi` para referirnos a `PI`:"
   ]
  },
  {
   "cell_type": "code",
   "execution_count": 44,
   "metadata": {
    "colab": {
     "base_uri": "https://localhost:8080/"
    },
    "executionInfo": {
     "elapsed": 16,
     "status": "ok",
     "timestamp": 1664992983595,
     "user": {
      "displayName": "Alexandra Abos Ortega",
      "userId": "12009012866427188327"
     },
     "user_tz": -120
    },
    "id": "r2vSgvlIdSwA",
    "outputId": "6fed0a98-96dd-4723-8fa1-b8cc552dc931"
   },
   "outputs": [
    {
     "name": "stdout",
     "output_type": "stream",
     "text": [
      "3.14159265\n"
     ]
    }
   ],
   "source": [
    "from prog_datasci import PI as mypi\n",
    "print(mypi)"
   ]
  },
  {
   "cell_type": "markdown",
   "metadata": {
    "id": "7sVkU0FKdSwA"
   },
   "source": [
    "Durante el curso veremos que esta sintaxis es muy común para acortar los nombres de los módulos que importamos.\n",
    "\n",
    "En Python también podemos usar la directiva `from prog_datasci importe *`, pero su uso está **totalmente desaconsejado**. La razón es\n",
    "que estaríamos importando gran cantidad de código que no usaremos (con el\n",
    "consiguiente aumento del uso de la memoria), pero además, podríamos tener\n",
    "colisiones de nombres (funciones que se llamen del mismo modo en\n",
    "diferentes módulos) sin nuestro conocimiento. Si no es\n",
    "imprescindible, no usaremos esta directiva e importaremos una a una\n",
    "las librerías y las funciones que necesitaremos.\n",
    "\n",
    "Podéis aprender más sobre importar librerías y definir vuestros\n",
    "propios módulos [aquí](https://docs.python.org/3/tutorial/modules.html)."
   ]
  },
  {
   "cell_type": "markdown",
   "metadata": {
    "id": "nBAIF7psdSwA"
   },
   "source": [
    "# 7. Operadores\n",
    "\n",
    "Los operadores son símbolos que indican al intérprete de pedidos que haga una operación específica. Hay de diferentes tipos según su función y se engloban en 5 bloques: operadores aritméticos, de asignación, relacionales, lógicos y de pertenencia. \n",
    "\n",
    "En este notebook ya hemos visto operadores, pero a continuación los describiremos más formalmente y también veremos ejemplos de cada uno: "
   ]
  },
  {
   "cell_type": "markdown",
   "metadata": {
    "id": "AOaQ4CVSdSwA"
   },
   "source": [
    "## 7.1. Operadores aritméticos\n",
    "\n",
    "Los operadores aritméticos son símbolos que nos permiten hacer una operación matemática básica.\n",
    "Por ejemplo, si consideramos la expresión `a=1+2`, tenemos `1` y `2` como los operandos y `+` como el operador aritmético. "
   ]
  },
  {
   "cell_type": "markdown",
   "metadata": {
    "id": "grioc3BNdSwA"
   },
   "source": [
    "| Operador| Descripción | Ejemplo\n",
    "| :- | -- | :-: |\n",
    "| + | Suma  | 1 + 2 = 3 |\n",
    "| - | Resta | 2 - 1 = 1 |\n",
    "| * | Multiplicación  | 2 * 3 = 6 |\n",
    "| / | División  | 5 / 2 = 2.5 |\n",
    "| // | División (número entero) | 5 // 2 = 2 |\n",
    "| % |  Módulo | 16% 3 = 1 |\n",
    "| ** | Potencia  | 2 ** 4 = 16 |"
   ]
  },
  {
   "cell_type": "code",
   "execution_count": 45,
   "metadata": {
    "colab": {
     "base_uri": "https://localhost:8080/"
    },
    "executionInfo": {
     "elapsed": 14,
     "status": "ok",
     "timestamp": 1664992983595,
     "user": {
      "displayName": "Alexandra Abos Ortega",
      "userId": "12009012866427188327"
     },
     "user_tz": -120
    },
    "id": "W0y1aXSpdSwB",
    "outputId": "d47d168f-c24a-4a8c-af33-f33a089d6193"
   },
   "outputs": [
    {
     "name": "stdout",
     "output_type": "stream",
     "text": [
      "5\n"
     ]
    }
   ],
   "source": [
    "# Definimos dos elementos: a y b\n",
    "a = 2\n",
    "b = 3\n",
    "\n",
    "# Hacemos la suma de a y b y mostramos el resultado\n",
    "print(a + b)"
   ]
  },
  {
   "cell_type": "markdown",
   "metadata": {
    "id": "IHvrMT7KdSwB"
   },
   "source": [
    "## 7.2. Operadores de asignación\n",
    "\n",
    "Los operadores de asignación se usan para especificar un valor a una variable. Un ejemplo ya comentado es el operador `=`. Este operador `=` se puede combinar con operadores aritméticos para poder hacer una operación y la asignación a la vez. \n",
    "Por ejemplo, usamos el operador básico de asignación `=` para declarar una variable: a = 5. \n",
    "A continuación, usamos el operador `+=` para sumar 5 a nuestra variable a y actualizar su valor: a+=5. Otra manera de escribirlo es a = a+5. "
   ]
  },
  {
   "cell_type": "code",
   "execution_count": 46,
   "metadata": {
    "colab": {
     "base_uri": "https://localhost:8080/"
    },
    "executionInfo": {
     "elapsed": 10,
     "status": "ok",
     "timestamp": 1664992983595,
     "user": {
      "displayName": "Alexandra Abos Ortega",
      "userId": "12009012866427188327"
     },
     "user_tz": -120
    },
    "id": "xPiRWgPtdSwB",
    "outputId": "df48bc66-3b7e-4dc8-bc6e-670487cf9234"
   },
   "outputs": [
    {
     "name": "stdout",
     "output_type": "stream",
     "text": [
      "10\n",
      "15\n"
     ]
    }
   ],
   "source": [
    "# Definimos un elemento a\n",
    "a = 10\n",
    "print(a)\n",
    "\n",
    "# Hacemos la suma de a y 5 y mostramos el resultado\n",
    "a += 5\n",
    "print(a)"
   ]
  },
  {
   "cell_type": "markdown",
   "metadata": {
    "id": "Dp3ZRjKSdSwB"
   },
   "source": [
    "| Operador| Descripción | Alternativa | \n",
    "| :- |  -- |:-: |\n",
    "| = | a = 10. Asignamos el valor 10 a la variable a | --- | \n",
    "| += | a += 5. Sumamos 5 a la variable a y actualizamos el valor | a = a + 5 | \n",
    "| -= | a -= 2. Restamos 2 a la variable a y actualizamos el valor| a = a -2 | \n",
    "| * = | a * = 2. Multiplicamos la variable a por 2 y actualizamos el valor | a = a * 2 | \n",
    "| /= | a /= 2. Dividimos la variable a entre 2 y actualizamos el valor| a = a / 2 | \n",
    "| //= | a //= 2. Dividimos la variable a entre 2 (obteniendo un entero) y actualizamos el valor | a = a //2 | \n",
    "| %= |  a %= 3. Calculamos el módulo de a entre 3 y actualizamos el valor | a = a % 3 | \n",
    "| ** = | a ** = 2. Elevamos a al cuadrado y actualizamos el valor| a = a ** 2 | "
   ]
  },
  {
   "cell_type": "markdown",
   "metadata": {
    "id": "KuRgamv8dSwB"
   },
   "source": [
    "## 7.3. Operadores relacionales\n",
    "\n",
    "Los operadores relacionales se usan para comparar dos variables según una condición específica. Por ejemplo: *Es la variable a más grande que la variable b?*. \n",
    "\n",
    "Estos operadores devuelven un tipo de datos concretos, denominado `boolean`, según el resultado de comparación. Los `boolean` solo pueden tener 2 valores: `True` o `False`. Si la condición es cierta, se devuelve el boolean `True`. Si la condición es falsa, se devuelve el boolean `False`. \n",
    "\n",
    "Por ejemplo, consideramos la situación siguiente: \n",
    "\n",
    "Tenemos dos variables, con valor 2 y 4 y queremos usar los operadores `&gt;` o ` 4` estamos preguntando si 2 es más grande que 4. Como esta condición es falsa, se devolverá el boolean False. En cambio, si hacemos `2 &lt; 4`, la condición es cierta, puesto que 2 es más pequeño que 4, de forma que se devolverá el booelan True. "
   ]
  },
  {
   "cell_type": "code",
   "execution_count": 47,
   "metadata": {
    "colab": {
     "base_uri": "https://localhost:8080/"
    },
    "executionInfo": {
     "elapsed": 9,
     "status": "ok",
     "timestamp": 1664992983596,
     "user": {
      "displayName": "Alexandra Abos Ortega",
      "userId": "12009012866427188327"
     },
     "user_tz": -120
    },
    "id": "kn3MTlObdSwB",
    "outputId": "b9d8f841-65dc-4c55-d466-8dcc285b23d7"
   },
   "outputs": [
    {
     "name": "stdout",
     "output_type": "stream",
     "text": [
      "False\n"
     ]
    }
   ],
   "source": [
    "# Las operaciones relacionales tendrán como resultado \n",
    "# un valor cierto (True) o falso (False):\n",
    "a = 2\n",
    "b = 4\n",
    "\n",
    "# El valor a es más grande que b?\n",
    "print(a > b)"
   ]
  },
  {
   "cell_type": "code",
   "execution_count": 48,
   "metadata": {
    "colab": {
     "base_uri": "https://localhost:8080/"
    },
    "executionInfo": {
     "elapsed": 1308,
     "status": "ok",
     "timestamp": 1664992984897,
     "user": {
      "displayName": "Alexandra Abos Ortega",
      "userId": "12009012866427188327"
     },
     "user_tz": -120
    },
    "id": "FAxCnPnYdSwB",
    "outputId": "84c7bcb5-1ce5-4e1c-97ba-216a0739edbc"
   },
   "outputs": [
    {
     "name": "stdout",
     "output_type": "stream",
     "text": [
      "True\n"
     ]
    }
   ],
   "source": [
    "# El valor a es más pequeño que b?\n",
    "print(a < b)"
   ]
  },
  {
   "cell_type": "code",
   "execution_count": 49,
   "metadata": {
    "colab": {
     "base_uri": "https://localhost:8080/"
    },
    "executionInfo": {
     "elapsed": 21,
     "status": "ok",
     "timestamp": 1664992984897,
     "user": {
      "displayName": "Alexandra Abos Ortega",
      "userId": "12009012866427188327"
     },
     "user_tz": -120
    },
    "id": "tB1iqbtUdSwC",
    "outputId": "b1f39e67-bf01-4711-b131-e4fcebfd6189"
   },
   "outputs": [
    {
     "name": "stdout",
     "output_type": "stream",
     "text": [
      "False\n",
      "True\n"
     ]
    }
   ],
   "source": [
    "# Definimos un elemento b\n",
    "b = 5\n",
    "\n",
    "# El valor de b es igual que el de a?\n",
    "print(b == a)\n",
    "\n",
    "# El valor de b es diferente que el de a?\n",
    "print(b != a)"
   ]
  },
  {
   "cell_type": "code",
   "execution_count": 50,
   "metadata": {
    "colab": {
     "base_uri": "https://localhost:8080/"
    },
    "executionInfo": {
     "elapsed": 20,
     "status": "ok",
     "timestamp": 1664992984898,
     "user": {
      "displayName": "Alexandra Abos Ortega",
      "userId": "12009012866427188327"
     },
     "user_tz": -120
    },
    "id": "12I8EPyydSwC",
    "outputId": "6262a1fa-0a2f-43fb-ca83-6d620128f56e"
   },
   "outputs": [
    {
     "name": "stdout",
     "output_type": "stream",
     "text": [
      "True\n",
      "False\n"
     ]
    }
   ],
   "source": [
    "# Otros operadores relacionales disponibles son \n",
    "# más pequeño o igual '<=',\n",
    "# más grande o igual '>=' \n",
    "print(a <= b)\n",
    "print(a >= b)"
   ]
  },
  {
   "cell_type": "markdown",
   "metadata": {
    "id": "gvJhnAaOdSwC"
   },
   "source": [
    "| Operador| Descripción | Ejemplo\n",
    "| :- | -- | :-: |\n",
    "| &gt; | Devuelve True si el operando de la izquierda es más grande que el operando de la derecha  | 6 > 4 : True |\n",
    "| &lt; | Devuelve True si el operando de la izquierda es más pequeño que el operando de la derecha | 2 < 4 : True |\n",
    "| == | Devuelve True si el operando de la izquierda es igual al operando de la derecha  | 4 == 4 : True |\n",
    "| !=| Devuelve True si el operando de la izquierda es diferente que el operando de la derecha  | 2 != 4 : True|\n",
    "| &gt;= | Devuelve True si el operando de la izquierda es más grande o igual que el operando de la derecha | 10 >= 5 : True |\n",
    "| &lt;= |  Devuelve True si el operando de la izquierda es más pequeño o igual que el operando de la derecha | 7 <= 7 : True |"
   ]
  },
  {
   "cell_type": "markdown",
   "metadata": {
    "id": "nXVXlvYgdSwC"
   },
   "source": [
    "## 7.4. Operadores lógicos\n",
    "\n",
    "Los operadores lógicos nos permiten trabajar con múltiples condiciones. En Python tenemos 3: `and`, `or` y `not`.\n",
    "\n",
    "Por ejemplo, consideramos 2 elementos: \n",
    "\n",
    "a = 5; b = 2\n",
    "\n",
    "Y 2 condiciones: \n",
    "\n",
    "a > b (a más grande que b) ; a == b (a igual a b)\n",
    "\n",
    "- Si consideramos el primer operador lógico `and`, devolverá True si se cumplen las 2 condiciones. En este caso, la 1.ª condición (a > b) se cumple, pero la 2.ª no (a == b). Por lo tanto, (a > b) and (a == b) devolverá el Boolean False. \n",
    "- En segundo lugar, el operador lógico `or` devolverá True si alguna de las condiciones es cierta. En este caso, como la primera condición se cumple,  (a > b) or (a == b) devolverá el Boolean True. \n",
    "- Finalmente, el operador lógico `not` devolverá True si la condición es falsa. Tal como hemos comentado, la segunda condición es falsa, entonces, not (a == b) devolverá el Boolean True. "
   ]
  },
  {
   "cell_type": "code",
   "execution_count": 51,
   "metadata": {
    "colab": {
     "base_uri": "https://localhost:8080/"
    },
    "executionInfo": {
     "elapsed": 18,
     "status": "ok",
     "timestamp": 1664992984898,
     "user": {
      "displayName": "Alexandra Abos Ortega",
      "userId": "12009012866427188327"
     },
     "user_tz": -120
    },
    "id": "-6Jup7jBdSwC",
    "outputId": "e8f61ade-8f1d-4241-eef2-930679bb4eca"
   },
   "outputs": [
    {
     "name": "stdout",
     "output_type": "stream",
     "text": [
      "Ejemplo 1:  False\n",
      "Ejemplo 2:  True\n",
      "Ejemplo 3:  True\n"
     ]
    }
   ],
   "source": [
    "# Definimos dos elementos: a y b\n",
    "a = 5\n",
    "b = 2\n",
    "\n",
    "# Mostramos en pantalla los resultados\n",
    "print('Ejemplo 1: ', (a > b) and (a == b))\n",
    "print('Ejemplo 2: ', (a > b) or (a == b))\n",
    "print('Ejemplo 3: ', not (a == b))"
   ]
  },
  {
   "cell_type": "markdown",
   "metadata": {
    "id": "99nFGYLadSwC"
   },
   "source": [
    "| Operador| Descripción | Ejemplo\n",
    "| :- | -- | :-: |\n",
    "| and | Devuelve True si ambas condiciones son ciertas  | a and b |\n",
    "| or | Devuelve True si alguna de las condiciones es cierta | a or b |\n",
    "| not | Devuelve True si la condición es falsa | not a |"
   ]
  },
  {
   "cell_type": "markdown",
   "metadata": {
    "id": "7ijKkJwNdSwC"
   },
   "source": [
    "## 7.5. Operadores de pertenencia\n",
    "\n",
    "Los operadores de pertenencia son muy empleados cuando trabajamos con listas, puesto que nos permiten comprobar si un elemento concreto está dentro de una lista o no. `in` y `not in` son los operadores de pertenencia. \n",
    "\n",
    "Consideremos la lista siguiente: \n",
    "`frutas = ['pera', 'manzana', 'plátano']`\n",
    "\n",
    "Queremos comprobar que el elemento a (a = 'pera') está a la lista. Usaremos el operador `in`. En este caso, a in frutas devolverá el boolean True. Si cogemos otro elemento b (b = 'kiwi'), como que este elemento no está a la lista, `not in` devolverá el boolean True, mientras que `in` devolverá el boolean False. "
   ]
  },
  {
   "cell_type": "code",
   "execution_count": 52,
   "metadata": {
    "colab": {
     "base_uri": "https://localhost:8080/"
    },
    "executionInfo": {
     "elapsed": 15,
     "status": "ok",
     "timestamp": 1664992984898,
     "user": {
      "displayName": "Alexandra Abos Ortega",
      "userId": "12009012866427188327"
     },
     "user_tz": -120
    },
    "id": "51tqQsYddSwD",
    "outputId": "207aedf1-975f-4ef0-8565-7fa09f9f063a"
   },
   "outputs": [
    {
     "name": "stdout",
     "output_type": "stream",
     "text": [
      "True\n",
      "False\n",
      "True\n"
     ]
    }
   ],
   "source": [
    "# Definimos tres elementos: frutas, a y b\n",
    "frutas = ['pera', 'manzana', 'plátano']\n",
    "a = 'pera'\n",
    "b = 'kiwi'\n",
    "\n",
    "# Mostramos el resultado de las operaciones de pertenencia\n",
    "print(a in frutas) # pera está en la lista\n",
    "print(b in frutas) # kiwi no está en la lista\n",
    "print(b not in frutas) # kiwi no está en la lista"
   ]
  },
  {
   "cell_type": "markdown",
   "metadata": {
    "id": "P5WX1Qj4dSwD"
   },
   "source": [
    "## 7.6. Numpy\n",
    "\n",
    "`Numpy` es una librería de Python especializada en cálculo numérico. En esta unidad introduciremos algunos aspectos básicos de esta librería, pero, más adelante, explicaremos en detalle como trabajar con esta librería y sus funcionalidades más importantes. \n",
    "\n",
    "Si queremos usar la librería Numpy, antes que nada, la tenemos que importar con la función **import**, tal como hemos visto en el apartado anterior. En el caso de Numpy, se ha establecido que su abreviación más común es `np`. "
   ]
  },
  {
   "cell_type": "code",
   "execution_count": 53,
   "metadata": {
    "executionInfo": {
     "elapsed": 13,
     "status": "ok",
     "timestamp": 1664992984899,
     "user": {
      "displayName": "Alexandra Abos Ortega",
      "userId": "12009012866427188327"
     },
     "user_tz": -120
    },
    "id": "4V6QrZ5pdSwD"
   },
   "outputs": [],
   "source": [
    "import numpy as np"
   ]
  },
  {
   "cell_type": "markdown",
   "metadata": {
    "id": "Y2dUGAbqdSwD"
   },
   "source": [
    "Numpy nos permite hacer operaciones numéricas de manera muy sencilla. Para explicar su utilidad, consideraremos la situación siguiente: \n",
    "\n",
    "*Tenemos una lista con el precio de los productos de la compra. ¿Cómo podríamos sumar todos los elementos de la lista para obtener el precio total?* "
   ]
  },
  {
   "cell_type": "markdown",
   "metadata": {
    "id": "l3jUP9NEdSwD"
   },
   "source": [
    "Con lo que hemos visto hasta ahora, una opción podría ser acceder a cada uno de los elementos de la lista y sumarlos con el operador aritmético de la suma (+): "
   ]
  },
  {
   "cell_type": "code",
   "execution_count": 54,
   "metadata": {
    "colab": {
     "base_uri": "https://localhost:8080/"
    },
    "executionInfo": {
     "elapsed": 13,
     "status": "ok",
     "timestamp": 1664992984899,
     "user": {
      "displayName": "Alexandra Abos Ortega",
      "userId": "12009012866427188327"
     },
     "user_tz": -120
    },
    "id": "zIASELpLdSwD",
    "outputId": "1d90c552-4974-4555-902a-e60af85a7759"
   },
   "outputs": [
    {
     "name": "stdout",
     "output_type": "stream",
     "text": [
      "Suma:  17.0\n"
     ]
    }
   ],
   "source": [
    "# Creamos la lista\n",
    "lista_compra = [3.5, 4.6, 8.9]\n",
    "\n",
    "# Accedemos a cada uno de los elementos de la lista y los sumamos\n",
    "suma_compra = lista_compra[0] + lista_compra[1] + lista_compra[2]\n",
    "\n",
    "# Mostramos el resultado en pantalla\n",
    "print('Suma: ', suma_compra)"
   ]
  },
  {
   "cell_type": "markdown",
   "metadata": {
    "id": "nE1oZZI5dSwD"
   },
   "source": [
    "A pesar de que el resultado es correcto, no parece una solución muy viable, puesto que es muy manual y, si tenemos muchos elementos dentro de la lista, no sería factible escribirlos uno a uno. \n",
    "\n",
    "Para solucionar este problema, podemos usar la librería `Numpy`."
   ]
  },
  {
   "cell_type": "markdown",
   "metadata": {
    "id": "Qb88qfpLdSwE"
   },
   "source": [
    "Numpy contiene multitud de funciones. En este caso, nos interesa sumar los elementos de una lista, por lo tanto, usaremos la función sum()."
   ]
  },
  {
   "cell_type": "code",
   "execution_count": 55,
   "metadata": {
    "colab": {
     "base_uri": "https://localhost:8080/"
    },
    "executionInfo": {
     "elapsed": 10,
     "status": "ok",
     "timestamp": 1664992984899,
     "user": {
      "displayName": "Alexandra Abos Ortega",
      "userId": "12009012866427188327"
     },
     "user_tz": -120
    },
    "id": "kY_FruYqdSwE",
    "outputId": "ed89fb19-9f75-4b69-fe3e-4fe218f6c2be"
   },
   "outputs": [
    {
     "name": "stdout",
     "output_type": "stream",
     "text": [
      "Suma:  17.0\n"
     ]
    }
   ],
   "source": [
    "# Creamos la lista\n",
    "lista_compra = [3.5, 4.6, 8.9]\n",
    "\n",
    "# Aplicamos la función suma a los elementos de la lista\n",
    "# y mostramos el resultado en pantalla\n",
    "print('Suma: ', np.sum(lista_compra))"
   ]
  },
  {
   "cell_type": "markdown",
   "metadata": {
    "id": "P_B9tmDEdSwE"
   },
   "source": [
    "Como podéis ver, con Numpy hemos podido sumar todos los elementos de la lista de manera fácil y rápida."
   ]
  },
  {
   "cell_type": "markdown",
   "metadata": {
    "id": "j2J3ZPjKdSwE"
   },
   "source": [
    "Numpy también se puede usar para calcular variables estadísticas (media o mediana, desviación estándar, máximo, mínimo, entre otros) de los elementos de una lista:"
   ]
  },
  {
   "cell_type": "code",
   "execution_count": 56,
   "metadata": {
    "colab": {
     "base_uri": "https://localhost:8080/"
    },
    "executionInfo": {
     "elapsed": 8,
     "status": "ok",
     "timestamp": 1664992984899,
     "user": {
      "displayName": "Alexandra Abos Ortega",
      "userId": "12009012866427188327"
     },
     "user_tz": -120
    },
    "id": "7IGoyRCndSwE",
    "outputId": "f691339f-5414-4c6f-b526-9d4eacca47cb"
   },
   "outputs": [
    {
     "name": "stdout",
     "output_type": "stream",
     "text": [
      "Media:  5.666666666666667\n",
      "Mediana:  4.6\n",
      "Desviación estándar:  2.3299976156401727\n",
      "Máximo:  8.9\n",
      "Mínimo estándar:  3.5\n"
     ]
    }
   ],
   "source": [
    "# Aplicamos la función mean (media) \n",
    "# a los elementos de la lista\n",
    "# y mostramos el resultado en pantalla\n",
    "print('Media: ', np.mean(lista_compra))\n",
    "\n",
    "# Aplicamos la función median (mediana) \n",
    "# a los elementos de la lista\n",
    "# y mostramos el resultado en pantalla\n",
    "print('Mediana: ', np.median(lista_compra))\n",
    "\n",
    "# Aplicamos la función std (desviación estándar) \n",
    "# a los elementos de la lista\n",
    "# y mostramos el resultado en pantalla\n",
    "print('Desviación estándar: ', np.std(lista_compra))\n",
    "\n",
    "# Aplicamos la función max (máximo) \n",
    "# a los elementos de la lista\n",
    "# y mostramos el resultado en pantalla\n",
    "print('Máximo: ', np.max(lista_compra))\n",
    "\n",
    "# Aplicamos la función min (mínimo) \n",
    "# a los elementos de la lista\n",
    "# y mostramos el resultado en pantalla\n",
    "print('Mínimo estándar: ', np.min(lista_compra))"
   ]
  },
  {
   "cell_type": "markdown",
   "metadata": {
    "id": "NShzow1pdSwE"
   },
   "source": [
    "En este [enlace](https://numpy.org/doc/stable/reference/routines.math.html) podéis consultar las operaciones matemáticas que contiene la librería Numpy. "
   ]
  },
  {
   "cell_type": "markdown",
   "metadata": {
    "id": "aAH5LksYdSwE"
   },
   "source": [
    "# 8. Recursos para el programador de Python\n",
    "\n",
    "Parte del proceso de aprender a programar Python consiste en **aprender dónde y cómo buscar** información para resolver problemas que no sabemos solucionar inmediatamente. Así, familiarizarnos con la documentación oficial, aprender a usar los buscadores (como por ejemplo Google) para ayudarnos a encontrar la información que necesitamos, y descubrir el funcionamiento de las herramientas de pregunta-y-respuesta (question-and-answer o Q&amp;A) que usan los programadores, serán competencias a trabajar en la asignatura. Estas competencias son de vital importancia, puesto que los lenguajes de programación están en evolución continua, de forma que por mucho que conozcamos un lenguaje, es habitual que a menudo nos encontremos con la necesidad de buscar algún recurso externo que nos ayude a llevar a cabo las tareas que necesitemos hacer.\n",
    "\n",
    "Durante el curso, iremos viendo cómo podemos consultar estos recursos, y los usaremos para resolver las actividades que se irán planteando. Veréis que los enunciados de las actividades que os proponemos hacer contienen indicaciones sobre la consulta de recursos externos. Estas indicaciones os irán guiando en la búsqueda de información para resolver los ejercicios. A principio del curso, las indicaciones serán muy explícitas, y conforme el curso va avanzando lo dejarán de ser progresivamente. De este modo, iréis adquiriendo autonomía en el proceso de búsqueda de información, cosa que os servirá para afrontar los problemas de programación que encontráis en el futuro! Ahora bien, recordad que durante todo el proceso estáis siempre acompañados por el consultor de vuestra aula, que os ayudará en todo momento (¡no dudéis en preguntar todo aquello que haga falta!)."
   ]
  },
  {
   "cell_type": "markdown",
   "metadata": {
    "id": "84awRPP2dSwF"
   },
   "source": [
    "# 9. Ejercicios y preguntas teóricas\n",
    "\n",
    "La parte evaluable de esta unidad consiste en la entrega de un fichero IPython Notebook con extensión IPYNB que contendrá los diferentes ejercicios y las preguntas teóricas que se tienen que contestar. Encontraréis el fichero (`prog_datasci_2_python_entrega.ipynb`) con las actividades en la misma carpeta que este notebook que estáis leyendo.\n",
    "\n",
    "## 9.1. Instrucciones importantes\n",
    "\n",
    "Es muy importante que a la hora de entregar el fichero Notebook con vuestras actividades os aseguréis que:\n",
    "\n",
    "1. Vuestras soluciones sean originales. Esperamos no detectar copia directa entre estudiantes.\n",
    "2. Todo el código esté correctamente documentado. El código sin documentar equivaldrá a un 0.\n",
    "3. El fichero comprimido que libráis es correcto (contiene las actividades de la PAC que tenéis que entregar).\n",
    "\n",
    "Para hacer la entrega, tenéis que ir a la carpeta del drive Colab Notebooks, clicando con el botón derecho en la PEC en cuestión y haciendo Download. De este modo, os bajaréis la carpeta de la PEC comprimida en zip. Este es el archivo que tenéis que subir al campus virtual de la asignatura.\n"
   ]
  },
  {
   "cell_type": "markdown",
   "metadata": {
    "id": "6eEHmIIMdSwF"
   },
   "source": [
    "# 10. Bibliografía\n",
    "\n",
    "Por un lado, os recomendamos consultar la [introducción a Jupyter Notebook](http://opentechschool.github.io/python-data-intro/core/notebook.html), para familiarizaros con el entorno a trabajo.\n",
    "\n",
    "Por otro lado, para acabar de entender los conceptos sobre variables presentados en esta unidad, os recomendamos consultar el [videotutorial sobre tipo de variables](http://uoc.tv.am.uoc.es/m2962_programacio_phyton/variables.mp4) (podéis descargarlo para verlo con más buena calidad) y el [videotutorial sobre *strings* y listas](http://uoc.tv.am.uoc.es/m2962_programacio_phyton/strings_listas.mp4)."
   ]
  }
 ],
 "metadata": {
  "colab": {
   "collapsed_sections": [],
   "provenance": []
  },
  "kernelspec": {
   "display_name": "Python 3",
   "language": "python",
   "name": "python3"
  },
  "language_info": {
   "codemirror_mode": {
    "name": "ipython",
    "version": 3
   },
   "file_extension": ".py",
   "mimetype": "text/x-python",
   "name": "python",
   "nbconvert_exporter": "python",
   "pygments_lexer": "ipython3",
   "version": "3.7.6"
  }
 },
 "nbformat": 4,
 "nbformat_minor": 1
}
